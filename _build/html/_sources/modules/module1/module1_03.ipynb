{
 "cells": [
  {
   "cell_type": "markdown",
   "id": "59b9e32a",
   "metadata": {},
   "source": [
    "# What is Pandas?\n",
    "\n",
    ":::{admonition} Watch it\n",
    "See the accompanied youtube video at <a href=\"https://www.youtube.com/embed/W88f5DAl9hk?start=120&end=371\" target=\"_blank\">the link here.</a>\n",
    ":::\n",
    "\n",
    "Pandas is an add-on library to Python.\n",
    "\n",
    "\n",
    "<center>\n",
    "\n",
    "<img src='../imgs/module1/pandas.gif'  alt=\"404 image\"  width=\"50%\" align=\"middle\"/>\n",
    "\n",
    "</center>\n",
    "\n",
    "\n",
    "It let’s us do more things with our code, specifically with dataframes.\n",
    "\n",
    "\n",
    "## Importing pandas\n",
    "\n",
    "To analyze dataframes and load these `csv` files, we need to make sure\n",
    "that we bring in the `pandas` library into Python.\n",
    "\n",
    "Before we start writing any valuable code for loading data and doing\n",
    "data analysis we need to import it with the following code."
   ]
  },
  {
   "cell_type": "code",
   "execution_count": null,
   "id": "b1825555",
   "metadata": {},
   "outputs": [],
   "source": [
    "import pandas as pd"
   ]
  },
  {
   "cell_type": "markdown",
   "id": "103200b6",
   "metadata": {},
   "source": [
    "## Reading in Data\n",
    "\n",
    "Next we can bring in our data named `candybars` which is stored as a\n",
    "`.csv` file."
   ]
  },
  {
   "cell_type": "code",
   "execution_count": null,
   "id": "229527a0",
   "metadata": {},
   "outputs": [],
   "source": [
    "candy = pd.read_csv('candybars.csv')"
   ]
  },
  {
   "cell_type": "code",
   "execution_count": null,
   "id": "556d00cc",
   "metadata": {},
   "outputs": [],
   "source": [
    "candy"
   ]
  },
  {
   "cell_type": "markdown",
   "id": "5a27774e",
   "metadata": {},
   "source": [
    "let’s break this up:\n",
    "\n",
    "- `pd` is the short form for pandas, which we are using to manipulate\n",
    "  our dataframe.  \n",
    "- `read_csv()` is the tool that does the job and, in this case, it is\n",
    "  reading in the `csv` file named `candybars.csv`.  \n",
    "- `candy` is The dataframe is now saved as an object called `candy`.\n",
    "\n",
    "The dataframe is stored in an object named `candy` and we can inspect in\n",
    "by “calling” the object name.\n",
    "\n",
    "In these section we can differentiate between the code that we typed in\n",
    "with a light grey background and it’s output which has a dark grey\n",
    "background.\n",
    "\n",
    "From this dataframe, we can see that there are 25 different candy bars\n",
    "and 6 columns.\n",
    "\n",
    "We can obtain the names of the columns using `.columns` syntax, and if\n",
    "we wanted to see the dimensions of the whole dataframe we could use\n",
    "`.shape` after the dataframe name."
   ]
  },
  {
   "cell_type": "code",
   "execution_count": null,
   "id": "aa88a50f",
   "metadata": {},
   "outputs": [],
   "source": [
    "candy.columns"
   ]
  },
  {
   "cell_type": "code",
   "execution_count": null,
   "id": "8760ff58",
   "metadata": {},
   "outputs": [],
   "source": [
    "candy.shape"
   ]
  },
  {
   "cell_type": "markdown",
   "id": "58a56313",
   "metadata": {},
   "source": [
    "Breaking up the code, we interpret this as:\n",
    "\n",
    "*“From our dataframe that we saved as `candy`, tell me the `columns`\n",
    "and `shape`”*\n",
    "\n",
    "\n",
    "What if we don’t want to output the whole table when displaying it as\n",
    "dataframe?\n",
    "\n",
    "\n",
    "We can specify how many rows of the dataset to show with `.head()`\n",
    "syntax.\n",
    "\n",
    "`.head(2)` will output the first 2 rows of the dataframe."
   ]
  },
  {
   "cell_type": "code",
   "execution_count": null,
   "id": "b25caca9",
   "metadata": {},
   "outputs": [],
   "source": [
    "candy.head(2)"
   ]
  },
  {
   "cell_type": "markdown",
   "id": "c3365041",
   "metadata": {},
   "source": [
    "We can specify any number of rows within the parentheses or we can leave\n",
    "it empty which will default to the first 5 rows."
   ]
  },
  {
   "cell_type": "code",
   "execution_count": null,
   "id": "a8478453",
   "metadata": {},
   "outputs": [],
   "source": [
    "candy.head()"
   ]
  },
  {
   "cell_type": "markdown",
   "id": "bb5a19b2",
   "metadata": {},
   "source": [
    "This can be really useful when we have dataframes that have hundreds or\n",
    "thousands of rows long.\n",
    "\n",
    "\n",
    "## Functions/Methods and Attributes\n",
    "\n",
    "\n",
    "<center>\n",
    "\n",
    "<img src='../imgs/module1/argument.png'  width=\"60%\" alt=\"404 image\" />\n",
    "\n",
    "</center>\n",
    "\n",
    "Something you may have noticed is that when we use `pd.read_csv()` we\n",
    "put our instructions within the parentheses, whereas, when we use\n",
    "`.shape` or `.head()` the object that we are operating on comes before\n",
    "our desired command.\n",
    "\n",
    "In Python, we use **functions**, **methods** and **attributes**. These\n",
    "are special words in Python that take instructions (we call these\n",
    "arguments) and do something.\n",
    "\n",
    "### Attributes\n",
    "\n",
    "Attributes can be distinguished from methods and functions as they do\n",
    "not have parentheses.\n",
    "\n",
    "They can be thought of as nouns or adjectives that describe an object.\n",
    "\n",
    "Take `candy.shape` as an example.\n",
    "\n",
    "In this case, our dataframe `candy` is our object and `.shape` is the\n",
    "attribute describing it.\n",
    "\n",
    "### Functions\n",
    "\n",
    "Functions and methods have parentheses.  \n",
    "They can be thought of as verbs that complete an action.\n",
    "\n",
    "In the example of `pd.read_csv()`, this function does the action of\n",
    "reading in our data.\n",
    "\n",
    "This is going to be discussed in more detail later in the course but\n",
    "now, simply be aware of the way we write the different instructions.\n",
    "\n",
    "\n",
    "## Comments\n",
    "\n",
    "While we write code, it’s often useful to annotate it or include\n",
    "information for humans that we do not want to executed.\n",
    "\n",
    "The easiest way to do this is with a hash (`#`) symbol. This creates a\n",
    "single line comment and prevents anything written after it from being\n",
    "executed by Python."
   ]
  },
  {
   "cell_type": "code",
   "execution_count": null,
   "id": "417eb03b",
   "metadata": {},
   "outputs": [],
   "source": [
    "# This line does not execute anything. "
   ]
  },
  {
   "cell_type": "code",
   "execution_count": null,
   "id": "9045807c",
   "metadata": {},
   "outputs": [],
   "source": [
    "candy.shape  # This will output the shape of the dataframe"
   ]
  },
  {
   "cell_type": "markdown",
   "id": "c995efc7",
   "metadata": {},
   "source": [
    "We use comments frequently in the exercises to help you understand what\n",
    "to do and what our intentions are.\n",
    "\n",
    "It’s good practice to use them to explain our code so if we or someone\n",
    "else wants to read it at a later date, it’s easier to understand.\n",
    "\n",
    ":::{admonition} Let’s apply what we learned!\n",
    "\n",
    "1\\. What is Pandas?      \n",
    "a) A useful tool for data manipulation in Python    \n",
    "b) A programming language    \n",
    "c) A datatype    \n",
    " \n",
    "\n",
    "2\\. Which of the following statements is true?     \n",
    "a) Attribute and methods can be thought of as nouns and functions as verbs           \n",
    "b) Attribute can be thought of as nouns and functions and methods as verbs              \n",
    "c)Functions and methods can be thought of as nouns and attributes as verbs           \n",
    "\n",
    ":::\n",
    "\n",
    "```{admonition} Solutions! \n",
    ":class: tip, dropdown\n",
    "\n",
    "1. a) A useful tool for data manipulation in Python    \n",
    "2. b) Attribute can be thought of as nouns and functions and methods as verbs           \n",
    "\n",
    "```"
   ]
  }
 ],
 "metadata": {
  "jupytext": {
   "formats": "md:myst"
  },
  "kernelspec": {
   "display_name": "Python 3 (ipykernel)",
   "language": "python",
   "name": "python3"
  }
 },
 "nbformat": 4,
 "nbformat_minor": 5
}
