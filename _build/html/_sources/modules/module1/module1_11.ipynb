{
 "cells": [
  {
   "cell_type": "markdown",
   "id": "0fb65af7",
   "metadata": {},
   "source": [
    "# Slicing only columns using .loc\\[\\]\n",
    "\n",
    ":::{admonition} Watch it\n",
    "See the accompanied youtube video at <a href=\"https://www.youtube.com/embed/W88f5DAl9hk?start=651&end=758\" target=\"_blank\">the link here.</a>\n",
    ":::\n",
    "\n",
    "What happens now if we wanted all the rows of the dataframe but only the\n",
    "columns `calories` to `fiber`?\n",
    "\n",
    "We can use `:` in the row postion of the `.loc[]` call to indicate we\n",
    "want all the rows. So here we write `cereal.loc[:, 'calories':'fiber']`."
   ]
  },
  {
   "cell_type": "code",
   "execution_count": null,
   "id": "0531aea2",
   "metadata": {
    "tags": [
     "remove-cell"
    ]
   },
   "outputs": [],
   "source": [
    "import pandas as pd\n",
    "import numpy as np\n",
    "pd.set_option('display.width', 400)\n",
    "\n",
    "np.set_printoptions(linewidth=400)\n",
    "\n",
    "pd.set_option('display.max_columns', 15)\n",
    "cereal = pd.read_csv('cereal.csv')"
   ]
  },
  {
   "cell_type": "code",
   "execution_count": null,
   "id": "d59b34af",
   "metadata": {},
   "outputs": [],
   "source": [
    "cereal.loc[:, 'calories':'fiber']"
   ]
  },
  {
   "cell_type": "markdown",
   "id": "127a7a86",
   "metadata": {},
   "source": [
    "## So Far\n",
    "\n",
    "Let’s talk about what we have covered so far.\n",
    "\n",
    "- `.loc[]` is used to slice columns and rows by **label** and within\n",
    "    an interval.\n",
    "\n",
    "- We always specify **row** indexing first, then **columns**.\n",
    "\n",
    "\n",
    "``` python\n",
    "cereal.loc['row name start':'row name end', 'column name start':'column name end']\n",
    "```\n",
    "\n",
    "- If we aren’t slicing any columns, but we are slicing rows we can\n",
    "    shorten that to:\n",
    "\n",
    "``` python\n",
    "df.loc[ 'row name start':'row name end']\n",
    "```\n",
    "\n",
    "- However, the reverse is not true. If we want all the rows with only\n",
    "    specific columns, we specify we want all the row first with just a\n",
    "    colon `:` followed by interval of the columns:\n",
    "\n",
    "``` python\n",
    "df.loc[:, 'column name start':'column name end']\n",
    "```\n",
    "\n",
    "- We can read `:` as **“to”**.\n",
    "\n",
    "- If the indices are labeled with numbers, we do not need “quotations”\n",
    "    when calling them. This is only when the labels are using letters.\n",
    "\n",
    ":::{admonition} Let’s apply what we learned!\n",
    "\n",
    "Using my dataframe object named `fruit_salad`, let's answer some slicing questions.\n",
    "\n",
    "```out\n",
    "           name    colour    location    seed   shape  sweetness   water-content  weight\n",
    "0         apple       red     canada    True   round     True          84         100\n",
    "1        banana    yellow     mexico   False    long     True          75         120\n",
    "2    cantaloupe    orange      spain    True   round     True          90        1360\n",
    "3  dragon-fruit   magenta      china    True   round    False          96         600\n",
    "4    elderberry    purple    austria   False   round     True          80           5\n",
    "5           fig    purple     turkey   False    oval    False          78          40\n",
    "6         guava     green     mexico    True    oval     True          83         450\n",
    "7   huckleberry      blue     canada    True   round     True          73           5\n",
    "8          kiwi     brown      china    True   round     True          80          76\n",
    "9         lemon    yellow     mexico   False    oval    False          83          65\n",
    "```\n",
    "\n",
    "1\\. If you wanted all the rows and only columns `seeds`, `shape`, `sweetness` and `water-content,` what would your code look like using index labels?                     \n",
    "a) `fruit_salad.loc[:, \"seed\":\"weight\"]`            \n",
    "b) `fruit_salad[:, \"seed\":\"water-content\"]`            \n",
    "c) `fruit_salad[0:9, \"seed\":\"water-content\"]`             \n",
    "d) `fruit_salad.loc[:, \"seed\":\"water-content\"]`                        \n",
    "\n",
    ":::\n",
    "\n",
    "```{admonition} Solutions!\n",
    ":class: tip, dropdown\n",
    "\n",
    "1. d) `fruit_salad.loc[:, \"seed\":\"water-content\"]`           \n",
    "\n",
    "```"
   ]
  }
 ],
 "metadata": {
  "jupytext": {
   "formats": "md:myst"
  },
  "kernelspec": {
   "display_name": "Python 3 (ipykernel)",
   "language": "python",
   "name": "python3"
  }
 },
 "nbformat": 4,
 "nbformat_minor": 5
}
