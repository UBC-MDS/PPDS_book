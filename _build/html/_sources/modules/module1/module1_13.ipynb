{
 "cells": [
  {
   "cell_type": "markdown",
   "id": "8bd2796c",
   "metadata": {},
   "source": [
    "# Selecting using .loc\\[\\]\n",
    "\n",
    ":::{admonition} Watch it\n",
    "See the accompanied youtube video at <a href=\"https://www.youtube.com/embed/W88f5DAl9hk?start=763&end=825\" target=\"_blank\">the link here.</a>\n",
    ":::\n",
    "\n",
    "## Unordered Indexing\n",
    "\n",
    "Here we have our trusty `cereal` dataframe.\n",
    "\n",
    "What would we do if we wanted to select columns and rows that don’t fall\n",
    "consecutively or if we wanted to rearrange them?"
   ]
  },
  {
   "cell_type": "code",
   "execution_count": null,
   "id": "f76cf305",
   "metadata": {
    "tags": [
     "remove-cell"
    ]
   },
   "outputs": [],
   "source": [
    "import pandas as pd\n",
    "import numpy as np\n",
    "pd.set_option('display.width', 400)\n",
    "\n",
    "np.set_printoptions(linewidth=400)\n",
    "\n",
    "pd.set_option('display.max_columns', 15)\n",
    "cereal = pd.read_csv('cereal.csv')"
   ]
  },
  {
   "cell_type": "code",
   "execution_count": null,
   "id": "7d5cd33c",
   "metadata": {},
   "outputs": [],
   "source": [
    "cereal"
   ]
  },
  {
   "cell_type": "markdown",
   "id": "db21784e",
   "metadata": {},
   "source": [
    "Let’s say we want only the rows labelled:\n",
    "\n",
    "  - `Clusters` (13)\n",
    "  - `Trix` (73), and\n",
    "  - `Wheaties` (75)\n",
    "\n",
    "And the columns:\n",
    "\n",
    "  - `name`\n",
    "  - `type`\n",
    "  - `sugars`, and\n",
    "  - `rating`\n",
    "\n",
    "How would we obtain them?\n",
    "\n",
    "We need to specify each column and row label that we want between square\n",
    "brackets `[]`, that follow `.loc[]` and we separate the items that we\n",
    "list in the square brackets with commas."
   ]
  },
  {
   "cell_type": "code",
   "execution_count": null,
   "id": "6e89c57a",
   "metadata": {},
   "outputs": [],
   "source": [
    "cereal.loc[[13,73,75], ['name', 'type', 'sugars', 'rating']]"
   ]
  },
  {
   "cell_type": "markdown",
   "id": "ec7a4069",
   "metadata": {},
   "source": [
    "## Ordered Indexing\n",
    "\n",
    "What if we wanted the rows to be in the order `Wheaties` (75), `Trix`\n",
    "(73) and `Clusters` (13) and columns in the order `name`, `type`,\n",
    "`rating` and `sugars`.\n",
    "\n",
    "How would we obtain that?\n",
    "\n",
    "We would just have to rearranging the order in which we list our rows\n",
    "and columns."
   ]
  },
  {
   "cell_type": "code",
   "execution_count": null,
   "id": "d1f94496",
   "metadata": {},
   "outputs": [],
   "source": [
    "cereal.loc[[75, 73, 13], ['name', 'type', 'rating', 'sugars']]"
   ]
  },
  {
   "cell_type": "markdown",
   "id": "26c6c759",
   "metadata": {},
   "source": [
    ":::{admonition} Let’s apply what we learned!\n",
    "\n",
    "Using my `fruit_salad` dataframe from earlier...\n",
    "\n",
    "```out\n",
    "           name    colour    location    seed   shape  sweetness   water-content  weight\n",
    "0         apple       red     canada    True   round     True          84         100\n",
    "1        banana    yellow     mexico   False    long     True          75         120\n",
    "2    cantaloupe    orange      spain    True   round     True          90        1360\n",
    "3  dragon-fruit   magenta      china    True   round    False          96         600\n",
    "4    elderberry    purple    austria   False   round     True          80           5\n",
    "5           fig    purple     turkey   False    oval    False          78          40\n",
    "6         guava     green     mexico    True    oval     True          83         450\n",
    "7   huckleberry      blue     canada    True   round     True          73           5\n",
    "8          kiwi     brown      china    True   round     True          80          76\n",
    "9         lemon    yellow     mexico   False    oval    False          83          65\n",
    "```\n",
    "\n",
    "1\\. If I wanted to make a tropical salad and the recipe calls for `kiwi`, `cantaloupe` and `guava` in this order and I am only interested in columns ordered as `sweetness`, `weight`, `seed` and  `location`, what would my code look like?         \n",
    "a) `fruit_salad.loc[8, 2, 6:\"sweetness\", \"weight\", \"seed\", \"location\"]`          \n",
    "b) `fruit_salad.loc[[8, 2, 6]:[\"sweetness\", \"weight\", \"seed\", \"location\"]]`        \n",
    "c) `fruit_salad.loc[[8, 2, 6], [\"sweetness\", \"weight\", \"seed\", \"location\"]]`    \n",
    "d) `fruit_salad.loc[[2, 6, 8], [\"location\", \"seed”, “sweetness\", \"weight\"]]`    \n",
    "\n",
    ":::\n",
    "\n",
    "```{admonition} Solutions!\n",
    ":class: tip, dropdown\n",
    "\n",
    "1. c) `fruit_salad.loc[[8, 2, 6], [\"sweetness\", \"weight\", \"seed\", \"location\"]]`             \n",
    "\n",
    "```"
   ]
  }
 ],
 "metadata": {
  "jupytext": {
   "formats": "md:myst"
  },
  "kernelspec": {
   "display_name": "Python 3 (ipykernel)",
   "language": "python",
   "name": "python3"
  }
 },
 "nbformat": 4,
 "nbformat_minor": 5
}
