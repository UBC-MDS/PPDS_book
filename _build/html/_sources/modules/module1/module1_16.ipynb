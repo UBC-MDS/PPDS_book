{
 "cells": [
  {
   "cell_type": "markdown",
   "id": "f84c4581",
   "metadata": {},
   "source": [
    "# Obtaining dataframe values\n",
    "\n",
    ":::{admonition} Watch it\n",
    "See the accompanied youtube video at <a href=\"https://www.youtube.com/embed/W88f5DAl9hk?start=830&end=907\" target=\"_blank\">the link here.</a>\n",
    ":::\n",
    "\n",
    "At this point of the module, we now know how to get a subset of an\n",
    "existing dataframe, but what if we just want to get a single value from\n",
    "it?"
   ]
  },
  {
   "cell_type": "code",
   "execution_count": null,
   "id": "db4e1172",
   "metadata": {
    "tags": [
     "remove-cell"
    ]
   },
   "outputs": [],
   "source": [
    "import pandas as pd\n",
    "import numpy as np\n",
    "pd.set_option('display.width', 400)\n",
    "\n",
    "np.set_printoptions(linewidth=400)\n",
    "\n",
    "pd.set_option('display.max_columns', 15)\n",
    "cereal = pd.read_csv('cereal.csv')"
   ]
  },
  {
   "cell_type": "code",
   "execution_count": null,
   "id": "c122434b",
   "metadata": {},
   "outputs": [],
   "source": [
    "cereal.loc[[63]]"
   ]
  },
  {
   "cell_type": "markdown",
   "id": "fe80d43f",
   "metadata": {},
   "source": [
    "For example, what if we wanted to save the calorie content of `Shredded\n",
    "Wheat` by extracting it from the dataframe manually instead of typing\n",
    "the number in Python?\n",
    "\n",
    "To do this we use again our `.loc` notation and we specify the row we\n",
    "are targeting which is 63, followed by the column, here `calories`. This\n",
    "goes in the square brackets."
   ]
  },
  {
   "cell_type": "code",
   "execution_count": null,
   "id": "fb3b9609",
   "metadata": {},
   "outputs": [],
   "source": [
    "cereal.loc[63, 'calories']"
   ]
  },
  {
   "cell_type": "markdown",
   "id": "c694bab4",
   "metadata": {},
   "source": [
    "When we do this, it displays the the value contained in the cell, which\n",
    "in this case, is 80.\n",
    "\n",
    "What about if we want just the rating of `Smacks` which is located at index\n",
    "66?"
   ]
  },
  {
   "cell_type": "code",
   "execution_count": null,
   "id": "b64eb7e1",
   "metadata": {},
   "outputs": [],
   "source": [
    "cereal.loc[[66]]"
   ]
  },
  {
   "cell_type": "markdown",
   "id": "9e75295a",
   "metadata": {},
   "source": [
    "Again we use `.loc[]` notation, and we specify the row and the column\n",
    "location separated by a comma.\n",
    "\n",
    "So here we write `cereal.loc` and the inside the brackets we write `[66,\n",
    "'rating']`."
   ]
  },
  {
   "cell_type": "code",
   "execution_count": null,
   "id": "e5f0f99b",
   "metadata": {},
   "outputs": [],
   "source": [
    "cereal.loc[66, 'rating']"
   ]
  }
 ],
 "metadata": {
  "jupytext": {
   "formats": "md:myst"
  },
  "kernelspec": {
   "display_name": "Python 3 (ipykernel)",
   "language": "python",
   "name": "python3"
  }
 },
 "nbformat": 4,
 "nbformat_minor": 5
}
