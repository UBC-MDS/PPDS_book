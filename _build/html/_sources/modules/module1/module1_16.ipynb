{
 "cells": [
  {
   "cell_type": "markdown",
   "id": "875fc566",
   "metadata": {},
   "source": [
    "# Obtaining dataframe values\n",
    "\n",
    ":::{admonition} Watch it\n",
    "See the accompanied youtube video at <a href=\"https://www.youtube.com/embed/W88f5DAl9hk?rel=0?start=830&end=907\" target=\"_blank\">the link here.</a>\n",
    ":::\n",
    "\n",
    "At this point of the module, we now know how to get a subset of an\n",
    "existing dataframe, but what if we just want to get a single value from\n",
    "it?\n",
    "\n",
    "\n",
    "``` python\n",
    "cereal.loc[[63]]\n",
    "```\n",
    "\n",
    "```out\n",
    "              name mfr  type  calories  protein  fat  sodium  fiber  carbo  sugars  potass  vitamins  shelf  weight  cups     rating\n",
    "63  Shredded Wheat   N  Cold        80        2    0       0    3.0   16.0       0      95         0      1    0.83   1.0  68.235885\n",
    "```\n",
    "\n",
    "For example, what if we wanted to save the calorie content of `Shredded\n",
    "Wheat` by extracting it from the dataframe manually instead of typing\n",
    "the number in Python?\n",
    "\n",
    "To do this we use again our `.loc` notation and we specify the row we\n",
    "are targeting which is 63, followed by the column, here `calories`. This\n",
    "goes in the square brackets.\n",
    "\n",
    "``` python\n",
    "cereal.loc[63, 'calories']\n",
    "```\n",
    "\n",
    "```out\n",
    "80\n",
    "```\n",
    "\n",
    "When we do this, it displays the the value contained in the cell, which\n",
    "in this case, is 80.\n",
    "\n",
    "What about if we want the rating of `Smacks` which is located at index\n",
    "66?\n",
    "\n",
    "Again we use `.loc[]` notation, and we specify the row and the column\n",
    "location separated by a comma.\n",
    "\n",
    "So here we write `cereal.loc` and the inside the brackets we write `[66,\n",
    "'rating']`.\n",
    "\n",
    "\n",
    "``` python\n",
    "cereal.loc[[66]]\n",
    "```\n",
    "\n",
    "```out\n",
    "      name mfr  type  calories  protein  fat  sodium  fiber  carbo  sugars  potass  vitamins  shelf  weight  cups     rating\n",
    "66  Smacks   K  Cold       110        2    1      70    1.0    9.0      15      40        25      2     1.0  0.75  31.230054\n",
    "```\n",
    "\n",
    "``` python\n",
    "cereal.loc[66, 'rating']\n",
    "```\n",
    "\n",
    "```out\n",
    "31.230054\n",
    "```"
   ]
  }
 ],
 "metadata": {
  "jupytext": {
   "formats": "md:myst",
   "text_representation": {
    "extension": ".md",
    "format_name": "myst",
    "format_version": "0.8",
    "jupytext_version": "1.10.3"
   }
  },
  "kernelspec": {
   "display_name": "Python 3",
   "language": "python",
   "name": "python3"
  },
  "language_info": {
   "codemirror_mode": {
    "name": "ipython",
    "version": 3
   },
   "file_extension": ".py",
   "mimetype": "text/x-python",
   "name": "python",
   "nbconvert_exporter": "python",
   "pygments_lexer": "ipython3",
   "version": "3.9.6"
  },
  "source_map": [
   13
  ]
 },
 "nbformat": 4,
 "nbformat_minor": 5
}