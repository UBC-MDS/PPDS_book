{
 "cells": [
  {
   "cell_type": "markdown",
   "id": "39ddb7d4",
   "metadata": {},
   "source": [
    "# Obtaining dataframe values\n",
    "\n",
    ":::{admonition} Watch it\n",
    "See the accompanied youtube video at <a href=\"https://www.youtube.com/embed/W88f5DAl9hk?start=830&end=907\" target=\"_blank\">the link here.</a>\n",
    ":::\n",
    "\n",
    "At this point of the module, we now know how to get a subset of an\n",
    "existing dataframe, but what if we just want to get a single value from\n",
    "it?"
   ]
  },
  {
   "cell_type": "code",
   "execution_count": 1,
   "id": "bf031f55",
   "metadata": {
    "tags": [
     "remove-cell"
    ]
   },
   "outputs": [],
   "source": [
    "import pandas as pd\n",
    "import numpy as np\n",
    "pd.set_option('display.width', 400)\n",
    "\n",
    "np.set_printoptions(linewidth=400)\n",
    "\n",
    "pd.set_option('display.max_columns', 15)\n",
    "cereal = pd.read_csv('cereal.csv')"
   ]
  },
  {
   "cell_type": "code",
   "execution_count": 2,
   "id": "a50b1f8c",
   "metadata": {},
   "outputs": [
    {
     "data": {
      "text/html": [
       "<div>\n",
       "<style scoped>\n",
       "    .dataframe tbody tr th:only-of-type {\n",
       "        vertical-align: middle;\n",
       "    }\n",
       "\n",
       "    .dataframe tbody tr th {\n",
       "        vertical-align: top;\n",
       "    }\n",
       "\n",
       "    .dataframe thead th {\n",
       "        text-align: right;\n",
       "    }\n",
       "</style>\n",
       "<table border=\"1\" class=\"dataframe\">\n",
       "  <thead>\n",
       "    <tr style=\"text-align: right;\">\n",
       "      <th></th>\n",
       "      <th>name</th>\n",
       "      <th>mfr</th>\n",
       "      <th>type</th>\n",
       "      <th>calories</th>\n",
       "      <th>protein</th>\n",
       "      <th>fat</th>\n",
       "      <th>sodium</th>\n",
       "      <th>...</th>\n",
       "      <th>sugars</th>\n",
       "      <th>potass</th>\n",
       "      <th>vitamins</th>\n",
       "      <th>shelf</th>\n",
       "      <th>weight</th>\n",
       "      <th>cups</th>\n",
       "      <th>rating</th>\n",
       "    </tr>\n",
       "  </thead>\n",
       "  <tbody>\n",
       "    <tr>\n",
       "      <th>63</th>\n",
       "      <td>Shredded Wheat</td>\n",
       "      <td>N</td>\n",
       "      <td>Cold</td>\n",
       "      <td>80</td>\n",
       "      <td>2</td>\n",
       "      <td>0</td>\n",
       "      <td>0</td>\n",
       "      <td>...</td>\n",
       "      <td>0</td>\n",
       "      <td>95</td>\n",
       "      <td>0</td>\n",
       "      <td>1</td>\n",
       "      <td>0.83</td>\n",
       "      <td>1.0</td>\n",
       "      <td>68.235885</td>\n",
       "    </tr>\n",
       "  </tbody>\n",
       "</table>\n",
       "<p>1 rows × 16 columns</p>\n",
       "</div>"
      ],
      "text/plain": [
       "              name mfr  type  calories  protein  fat  sodium  ...  sugars  potass  vitamins  shelf  weight  cups     rating\n",
       "63  Shredded Wheat   N  Cold        80        2    0       0  ...       0      95         0      1    0.83   1.0  68.235885\n",
       "\n",
       "[1 rows x 16 columns]"
      ]
     },
     "execution_count": 2,
     "metadata": {},
     "output_type": "execute_result"
    }
   ],
   "source": [
    "cereal.loc[[63]]"
   ]
  },
  {
   "cell_type": "markdown",
   "id": "ae19bb79",
   "metadata": {},
   "source": [
    "For example, what if we wanted to save the calorie content of `Shredded\n",
    "Wheat` by extracting it from the dataframe manually instead of typing\n",
    "the number in Python?\n",
    "\n",
    "To do this we use again our `.loc` notation and we specify the row we\n",
    "are targeting which is 63, followed by the column, here `calories`. This\n",
    "goes in the square brackets."
   ]
  },
  {
   "cell_type": "code",
   "execution_count": 3,
   "id": "43d76614",
   "metadata": {},
   "outputs": [
    {
     "data": {
      "text/plain": [
       "80"
      ]
     },
     "execution_count": 3,
     "metadata": {},
     "output_type": "execute_result"
    }
   ],
   "source": [
    "cereal.loc[63, 'calories']"
   ]
  },
  {
   "cell_type": "markdown",
   "id": "e4284b82",
   "metadata": {},
   "source": [
    "When we do this, it displays the the value contained in the cell, which\n",
    "in this case, is 80.\n",
    "\n",
    "What about if we want just the rating of `Smacks` which is located at index\n",
    "66?"
   ]
  },
  {
   "cell_type": "code",
   "execution_count": 4,
   "id": "c99f7e29",
   "metadata": {},
   "outputs": [
    {
     "data": {
      "text/html": [
       "<div>\n",
       "<style scoped>\n",
       "    .dataframe tbody tr th:only-of-type {\n",
       "        vertical-align: middle;\n",
       "    }\n",
       "\n",
       "    .dataframe tbody tr th {\n",
       "        vertical-align: top;\n",
       "    }\n",
       "\n",
       "    .dataframe thead th {\n",
       "        text-align: right;\n",
       "    }\n",
       "</style>\n",
       "<table border=\"1\" class=\"dataframe\">\n",
       "  <thead>\n",
       "    <tr style=\"text-align: right;\">\n",
       "      <th></th>\n",
       "      <th>name</th>\n",
       "      <th>mfr</th>\n",
       "      <th>type</th>\n",
       "      <th>calories</th>\n",
       "      <th>protein</th>\n",
       "      <th>fat</th>\n",
       "      <th>sodium</th>\n",
       "      <th>...</th>\n",
       "      <th>sugars</th>\n",
       "      <th>potass</th>\n",
       "      <th>vitamins</th>\n",
       "      <th>shelf</th>\n",
       "      <th>weight</th>\n",
       "      <th>cups</th>\n",
       "      <th>rating</th>\n",
       "    </tr>\n",
       "  </thead>\n",
       "  <tbody>\n",
       "    <tr>\n",
       "      <th>66</th>\n",
       "      <td>Smacks</td>\n",
       "      <td>K</td>\n",
       "      <td>Cold</td>\n",
       "      <td>110</td>\n",
       "      <td>2</td>\n",
       "      <td>1</td>\n",
       "      <td>70</td>\n",
       "      <td>...</td>\n",
       "      <td>15</td>\n",
       "      <td>40</td>\n",
       "      <td>25</td>\n",
       "      <td>2</td>\n",
       "      <td>1.0</td>\n",
       "      <td>0.75</td>\n",
       "      <td>31.230054</td>\n",
       "    </tr>\n",
       "  </tbody>\n",
       "</table>\n",
       "<p>1 rows × 16 columns</p>\n",
       "</div>"
      ],
      "text/plain": [
       "      name mfr  type  calories  protein  fat  sodium  ...  sugars  potass  vitamins  shelf  weight  cups     rating\n",
       "66  Smacks   K  Cold       110        2    1      70  ...      15      40        25      2     1.0  0.75  31.230054\n",
       "\n",
       "[1 rows x 16 columns]"
      ]
     },
     "execution_count": 4,
     "metadata": {},
     "output_type": "execute_result"
    }
   ],
   "source": [
    "cereal.loc[[66]]"
   ]
  },
  {
   "cell_type": "markdown",
   "id": "fb918adc",
   "metadata": {},
   "source": [
    "Again we use `.loc[]` notation, and we specify the row and the column\n",
    "location separated by a comma.\n",
    "\n",
    "So here we write `cereal.loc` and the inside the brackets we write `[66,\n",
    "'rating']`."
   ]
  },
  {
   "cell_type": "code",
   "execution_count": 5,
   "id": "1482e48b",
   "metadata": {},
   "outputs": [
    {
     "data": {
      "text/plain": [
       "31.230054"
      ]
     },
     "execution_count": 5,
     "metadata": {},
     "output_type": "execute_result"
    }
   ],
   "source": [
    "cereal.loc[66, 'rating']"
   ]
  }
 ],
 "metadata": {
  "jupytext": {
   "formats": "md:myst",
   "text_representation": {
    "extension": ".md",
    "format_name": "myst",
    "format_version": "0.8",
    "jupytext_version": "1.10.3"
   }
  },
  "kernelspec": {
   "display_name": "Python 3",
   "language": "python",
   "name": "python3"
  },
  "language_info": {
   "codemirror_mode": {
    "name": "ipython",
    "version": 3
   },
   "file_extension": ".py",
   "mimetype": "text/x-python",
   "name": "python",
   "nbconvert_exporter": "python",
   "pygments_lexer": "ipython3",
   "version": "3.9.6"
  },
  "source_map": [
   13,
   25,
   37,
   39,
   49,
   51,
   59,
   61,
   70
  ]
 },
 "nbformat": 4,
 "nbformat_minor": 5
}