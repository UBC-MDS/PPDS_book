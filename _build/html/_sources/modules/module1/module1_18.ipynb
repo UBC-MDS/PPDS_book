{
 "cells": [
  {
   "cell_type": "markdown",
   "id": "cf1eb606",
   "metadata": {},
   "source": [
    "# Selecting a Single Column\n",
    "\n",
    ":::{admonition} Watch it\n",
    "See the accompanied youtube video at <a href=\"https://www.youtube.com/embed/W88f5DAl9hk?start=913&end=1005\" target=\"_blank\">the link here.</a>\n",
    ":::\n",
    "\n",
    "Something we often do in data analysis is obtain a single column from\n",
    "a dataframe. We can again use `.loc[]` to do this which would look\n",
    "something like this in general:\n",
    "\n",
    "`dataframe.loc[:, ['column name']]`"
   ]
  },
  {
   "cell_type": "code",
   "execution_count": null,
   "id": "c92c2714",
   "metadata": {
    "tags": [
     "remove-cell"
    ]
   },
   "outputs": [],
   "source": [
    "import pandas as pd\n",
    "import numpy as np\n",
    "\n",
    "pd.set_option('display.width', 400)\n",
    "np.set_printoptions(linewidth=400)\n",
    "pd.set_option('display.max_columns', 15)\n",
    "\n",
    "cereal = pd.read_csv('cereal.csv')"
   ]
  },
  {
   "cell_type": "markdown",
   "id": "ca5a6755",
   "metadata": {},
   "source": [
    "So if we here want the column named `type` from our cereal dataframe we\n",
    "could use the syntax:"
   ]
  },
  {
   "cell_type": "code",
   "execution_count": null,
   "id": "cf3728d3",
   "metadata": {},
   "outputs": [],
   "source": [
    "cereal.loc[:, ['type']]"
   ]
  },
  {
   "cell_type": "markdown",
   "id": "07a228ca",
   "metadata": {},
   "source": [
    "This seems a bit long winded and since we do this type of thing often.\n",
    "Luckily, Pandas has provided a quicker syntax to use to do the same\n",
    "thing.\n",
    "\n",
    "\n",
    "<br>\n",
    "\n",
    "\n",
    "\n",
    "Instead, selecting a single column can be done without using `.loc[]`\n",
    "and we can just specify the dataframe name, followed by double square\n",
    "brackets containing the column of interest (`df[['column name']]`)."
   ]
  },
  {
   "cell_type": "code",
   "execution_count": null,
   "id": "0a5cd5cd",
   "metadata": {},
   "outputs": [],
   "source": [
    "cereal[['type']]"
   ]
  },
  {
   "cell_type": "markdown",
   "id": "2f71417c",
   "metadata": {},
   "source": [
    "This makes the syntax for selecting the column `type` from the `cereal`\n",
    "dataframe very easy."
   ]
  }
 ],
 "metadata": {
  "jupytext": {
   "formats": "md:myst"
  },
  "kernelspec": {
   "display_name": "Python 3 (ipykernel)",
   "language": "python",
   "name": "python3"
  }
 },
 "nbformat": 4,
 "nbformat_minor": 5
}
