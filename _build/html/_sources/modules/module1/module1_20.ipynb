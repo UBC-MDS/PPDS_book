{
 "cells": [
  {
   "cell_type": "markdown",
   "id": "8db7fde7",
   "metadata": {},
   "source": [
    "# Slicing and selecting using .iloc\\[\\]\n",
    "\n",
    ":::{admonition} Watch it\n",
    "See the accompanied youtube video at <a href=\"https://www.youtube.com/embed/W88f5DAl9hk?start=1011&end=1456\" target=\"_blank\">the link here.</a>\n",
    ":::\n",
    "\n",
    "Up until point, we have been manipulating our dataframe with column and\n",
    "row ***labels*** using `.loc[]`.\n",
    "\n",
    "Slicing can also be done by the location position of each row with\n",
    "`.iloc[]`.\n",
    "\n",
    "`.iloc[]` is very similar to `.loc[]`, however, the “i” in `iloc` refers\n",
    "to the index ***integer*** position.\n",
    "\n",
    "\n",
    "## Slicing Dataframe\n",
    "\n",
    "We are going to return to our cereal dataset and take a look at the\n",
    "first 10 rows."
   ]
  },
  {
   "cell_type": "code",
   "execution_count": null,
   "id": "0ee7cdd6",
   "metadata": {
    "tags": [
     "remove-cell"
    ]
   },
   "outputs": [],
   "source": [
    "import pandas as pd\n",
    "import numpy as np\n",
    "\n",
    "pd.set_option('display.width', 400)\n",
    "np.set_printoptions(linewidth=400)\n",
    "pd.set_option('display.max_columns', 15)"
   ]
  },
  {
   "cell_type": "code",
   "execution_count": null,
   "id": "f97cc05f",
   "metadata": {},
   "outputs": [],
   "source": [
    "cereal = pd.read_csv('cereal.csv')\n",
    "cereal.head(10)"
   ]
  },
  {
   "cell_type": "markdown",
   "id": "222a69de",
   "metadata": {},
   "source": [
    "Let’s say we want the rows from `All-Bran` to `Apple Cinnamon Cheerios`,\n",
    "but we want to slice based on their position instead of their label.\n",
    "\n",
    "Using Python’s counting method of starting at zero, we conclude that\n",
    "`All-Bran` to be at position to 2.\n",
    "\n",
    "We get `Apple Cinnamon Cheerios` position to be 5 in the same way.\n",
    "\n",
    "We are lucky with this dataframe because our index labels match the\n",
    "position of the rows, and this makes things a little bit simpler.\n",
    "\n",
    "\n",
    "We can use the same coding structure we learned with `.loc[]` but this\n",
    "time using row positions instead of labels with `.iloc[]`."
   ]
  },
  {
   "cell_type": "code",
   "execution_count": null,
   "id": "9a0d14c1",
   "metadata": {},
   "outputs": [],
   "source": [
    "cereal.loc[2:5]"
   ]
  },
  {
   "cell_type": "code",
   "execution_count": null,
   "id": "a33d2065",
   "metadata": {},
   "outputs": [],
   "source": [
    "cereal.iloc[2:5]"
   ]
  },
  {
   "cell_type": "markdown",
   "id": "0efb627e",
   "metadata": {},
   "source": [
    "But wait\\! Something is missing here\\!\n",
    "\n",
    "Why doesn’t `Apple Cinnamon Cheerios` appear in the dataframe?\n",
    "\n",
    "The reason for this is that when we use slicing with indices, it will\n",
    "take all the indices including the lower bound but *EXCLUDING* the upper\n",
    "bound.\n",
    "\n",
    "If we want to include `Apple Cinnamon Cheerios` we would have to go 1\n",
    "index position further."
   ]
  },
  {
   "cell_type": "code",
   "execution_count": null,
   "id": "f5e8a57b",
   "metadata": {},
   "outputs": [],
   "source": [
    "cereal.iloc[2:6]"
   ]
  },
  {
   "cell_type": "markdown",
   "id": "1858f76c",
   "metadata": {},
   "source": [
    "If we think about this a bit it actually make some sense. Think about\n",
    "the calculation `6 - 2 = 4` . We get 4 items remaining which is the\n",
    "amount of cereals we want in our in new dataframe.\n",
    "\n",
    "\n",
    "The same concept can be applied to the columns of the dataframe.\n",
    "\n",
    "Let’s say we want all the rows but we only want the columns starting at\n",
    "`name` and ending (and including) at column `fat`.  \n",
    "Using the logic we learned in the last section, we would use the\n",
    "following code.\n",
    "\n",
    "We would need to specify all rows using `:` as we did when we used\n",
    "`.loc[]`.\n",
    "\n",
    "The column `name` is at index position 0 (we do not include the index\n",
    "label as a column) and `fat` is at index position 5.\n",
    "\n",
    "Since we want to include the 5th column we need to use the 6th position\n",
    "to make sure we get all the columns *BEFORE* the upper bound."
   ]
  },
  {
   "cell_type": "code",
   "execution_count": null,
   "id": "693fabbd",
   "metadata": {},
   "outputs": [],
   "source": [
    "cereal.iloc[:, 0:6]"
   ]
  },
  {
   "cell_type": "markdown",
   "id": "98916e17",
   "metadata": {},
   "source": [
    "Let’s say we want the rows `All-Bran` to `Apple Cinnamon Cheerios` and\n",
    "`name` to `fat`.\n",
    "\n",
    "For rows, the lower bound `All-Bran` is located at position 2 and the\n",
    "upper bound `Apple Cinnamon Cheerios` is located at position 5.\n",
    "\n",
    "Now the column’s lower bound `name` is located at position 0 and the\n",
    "upper bound `fat` is located at position 5.\n",
    "\n",
    "The same would apply if we only wanted certain rows with certain\n",
    "columns.\n",
    "\n",
    "Both of our upper bound have been compensated with an added 1 to make\n",
    "sure they are included in the new dataframe.\n",
    "\n",
    "So the code we have to use to do this is the following:"
   ]
  },
  {
   "cell_type": "code",
   "execution_count": null,
   "id": "29978535",
   "metadata": {},
   "outputs": [],
   "source": [
    "cereal.iloc[2:6, 0:6]"
   ]
  },
  {
   "cell_type": "markdown",
   "id": "48be1ac8",
   "metadata": {},
   "source": [
    "There are multiple different way of writing code when you are selecting\n",
    "items from the beginning or end of your data.\n",
    "\n",
    "Perhaps you only want the first 3 rows of your data.\n",
    "\n",
    "We can use `.head(3)` or we can use `.iloc[]`."
   ]
  },
  {
   "cell_type": "code",
   "execution_count": null,
   "id": "476b2dfc",
   "metadata": {},
   "outputs": [],
   "source": [
    "cereal.head(3)"
   ]
  },
  {
   "cell_type": "code",
   "execution_count": null,
   "id": "eea9b324",
   "metadata": {},
   "outputs": [],
   "source": [
    "cereal.iloc[0:3]"
   ]
  },
  {
   "cell_type": "markdown",
   "id": "354b1b51",
   "metadata": {},
   "source": [
    "Since we are indicating the beginning of the dataframe, we can omit the\n",
    "upper bound `0` just like we did when we learned slicing with `.loc[]`."
   ]
  },
  {
   "cell_type": "code",
   "execution_count": null,
   "id": "51c119ce",
   "metadata": {},
   "outputs": [],
   "source": [
    "cereal.iloc[:3]"
   ]
  },
  {
   "cell_type": "markdown",
   "id": "ee37be34",
   "metadata": {},
   "source": [
    "The same logic can be applied for end of a dataframe. This time we want\n",
    "the last 3 rows.\n",
    "\n",
    "Since this dataframe has 76 rows we could use our lower bound as 74 and\n",
    "upper bound as 77 (76 +1)."
   ]
  },
  {
   "cell_type": "code",
   "execution_count": null,
   "id": "cc733427",
   "metadata": {},
   "outputs": [],
   "source": [
    "cereal.iloc[74:77]"
   ]
  },
  {
   "cell_type": "markdown",
   "id": "daebd407",
   "metadata": {},
   "source": [
    "A better and easier way to write this, where you don’t even need to know\n",
    "the number of rows in the dataframe would be to specify you are counting\n",
    "your rows from the bottom with a negative in front of the number of rows\n",
    "you want.\n",
    "\n",
    "This example takes the last 3 rows of the **bottom** of the dataframe.\n",
    "\n",
    "Since we are collecting data to the end of the dataframe, we do not need\n",
    "to include the ending row index number."
   ]
  },
  {
   "cell_type": "code",
   "execution_count": null,
   "id": "a0acd4a2",
   "metadata": {},
   "outputs": [],
   "source": [
    "cereal.iloc[-3:]"
   ]
  },
  {
   "cell_type": "markdown",
   "id": "babc0620",
   "metadata": {},
   "source": [
    "## Selecting with .iloc\\[\\]\n",
    "\n",
    "Selecting using `.iloc[]` is done identically to `.loc[]`, however, the\n",
    "items within each set of square brackets **MUST** be integers, and not\n",
    "in quotation marks."
   ]
  },
  {
   "cell_type": "code",
   "execution_count": null,
   "id": "cd02b251",
   "metadata": {},
   "outputs": [],
   "source": [
    "cereal.head(10)"
   ]
  },
  {
   "cell_type": "markdown",
   "id": "139ba685",
   "metadata": {},
   "source": [
    "Let’s say we want the rows `Almond Delight`, `Basic 4` and `Apple Jacks`\n",
    "with the columns `name`, `calories`, `fat` and `type` and *in that\n",
    "specific order*.\n",
    "\n",
    "\n",
    "\n",
    "<table id=\"**Rows**\" style=\"width:50%; float:left\">\n",
    "\n",
    "<tr>\n",
    "\n",
    "<td>\n",
    "\n",
    "| **Row**          | **Row Position** |\n",
    "| ---------------- | ---------------- |\n",
    "| `Almond Delight` | Position 4       |\n",
    "| `Basic 4`        | Position 7       |\n",
    "| `Apple Jacks`    | Position 6       |\n",
    "\n",
    "</td>\n",
    "\n",
    "</tr>\n",
    "\n",
    "</table>\n",
    "\n",
    "<table id=\"**Columns**\" style=\"width:50%; float:left\">\n",
    "\n",
    "<tr>\n",
    "\n",
    "<td>\n",
    "\n",
    "| **Columns** | **Column Position** |\n",
    "| ----------- | ------------------- |\n",
    "| `name`      | Position 0          |\n",
    "| `calories`  | Position 3          |\n",
    "| `fat`       | Position 5          |\n",
    "| `type`      | Position 2          |\n",
    "\n",
    "</td>\n",
    "\n",
    "</tr>\n",
    "\n",
    "</table>\n",
    "\n",
    "`Almond Delight` takes row position 4, `Basic 4` takes row position 7\n",
    "and `Apple Jacks` is located at position 6. The desired columns `name`,\n",
    "`calories`, `fat`, and `type` take column index positions 0, 5, 3, and 2\n",
    "respectively.\n",
    "\n",
    "Now let’s put those positions into square backing within `df.iloc[]`."
   ]
  },
  {
   "cell_type": "code",
   "execution_count": null,
   "id": "3516958b",
   "metadata": {},
   "outputs": [],
   "source": [
    "cereal.iloc[[4, 7, 6], [0, 3, 5, 2]]"
   ]
  },
  {
   "cell_type": "markdown",
   "id": "02152b04",
   "metadata": {},
   "source": [
    ":::{admonition} Let’s apply what we learned!\n",
    "\n",
    "Here is our `fruit_salad` data again:\n",
    "\n",
    "```out\n",
    "           name    colour    location    seed   shape  sweetness   water-content  weight\n",
    "0         apple       red     canada    True   round     True          84         100\n",
    "1        banana    yellow     mexico   False    long     True          75         120\n",
    "2    cantaloupe    orange      spain    True   round     True          90        1360\n",
    "3  dragon-fruit   magenta      china    True   round    False          96         600\n",
    "4    elderberry    purple    austria   False   round     True          80           5\n",
    "5           fig    purple     turkey   False    oval    False          78          40\n",
    "6         guava     green     mexico    True    oval     True          83         450\n",
    "7   huckleberry      blue     canada    True   round     True          73           5\n",
    "8          kiwi     brown      china    True   round     True          80          76\n",
    "9         lemon    yellow     mexico   False    oval    False          83          65\n",
    "```\n",
    "\n",
    "\n",
    "1\\. If I wanted the rows `elderberry`  to `kiwi` and only columns `seeds`, `shape`, `sweetness` and  `water-content`, what would my code look like if I was using index positions?            \n",
    "a) `fruit_salad.iloc[4:9, 3:]`         \n",
    "b) `fruit_salad.iloc[4:8, 3:7]`           \n",
    "c) `fruit_salad.iloc[4:9, 3:7]`           \n",
    "d) `fruit_salad.iloc[5:10, 4:8]`           \n",
    "\n",
    "2\\. If I wanted the rows `lemon` and `cantaloupe`  but only the columns `colour`, `weight` and `seeds` in that order, what would my code look like if I was using index position?      \n",
    "a) `fruit_salad.iloc[[lemon, cantaloupe], [colour, weight, seeds]]`           \n",
    "b) `fruit_salad.iloc[[10, 3], [2, 8, 4]]`           \n",
    "c) `fruit_salad.iloc[[9, 2], [1, 7, 3]]`           \n",
    "d) `fruit_salad[[9, 2], [1, 7, 3]]`   \n",
    "\n",
    ":::\n",
    "\n",
    "```{admonition} Solutions!\n",
    ":class: tip, dropdown\n",
    "\n",
    "1. c) `fruit_salad.iloc[4:9, 3:7]`   \n",
    "2. c) `fruit_salad.iloc[[9, 2], [1, 7, 3]]`  \n",
    "\n",
    "```"
   ]
  }
 ],
 "metadata": {
  "jupytext": {
   "formats": "md:myst"
  },
  "kernelspec": {
   "display_name": "Python 3 (ipykernel)",
   "language": "python",
   "name": "python3"
  }
 },
 "nbformat": 4,
 "nbformat_minor": 5
}
