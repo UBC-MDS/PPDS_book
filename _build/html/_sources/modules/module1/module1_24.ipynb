{
 "cells": [
  {
   "cell_type": "markdown",
   "id": "e955fde4",
   "metadata": {},
   "source": [
    "# Sorting dataframes\n",
    "\n",
    ":::{admonition} Watch it\n",
    "See the accompanied youtube video at <a href=\"https://www.youtube.com/embed/W88f5DAl9hk?start=1461&end=1513\" target=\"_blank\">the link here.</a>\n",
    ":::\n",
    "\n",
    "When we read in our data, it is generally ordered in the same way it is\n",
    "stored.\n",
    "\n",
    "We can easily sort the rows of a dataframe based on the values within a\n",
    "column.\n",
    "\n",
    "The verb that we use for that is `.sort_values()`."
   ]
  },
  {
   "cell_type": "code",
   "execution_count": null,
   "id": "a8079b9d",
   "metadata": {
    "tags": [
     "remove-cell"
    ]
   },
   "outputs": [],
   "source": [
    "import pandas as pd\n",
    "import numpy as np\n",
    "\n",
    "pd.set_option('display.width', 400)\n",
    "np.set_printoptions(linewidth=400)\n",
    "pd.set_option('display.max_columns', 15)\n",
    "\n",
    "cereal = pd.read_csv('cereal.csv')"
   ]
  },
  {
   "cell_type": "code",
   "execution_count": null,
   "id": "0b4aa3d6",
   "metadata": {},
   "outputs": [],
   "source": [
    "cereal.sort_values(by='rating')"
   ]
  },
  {
   "cell_type": "markdown",
   "id": "9f3a407f",
   "metadata": {},
   "source": [
    "For example, if we wanted to order the cereals based on rating, we could\n",
    "do so by using the argument `by` within the `.sort_values()` verb.\n",
    "\n",
    "This allows us to see the cereals with lower ratings on the top.\n",
    "\n",
    "What if we wanted the cereals with higher ratings at the top?\n",
    "\n",
    "Then we would order them in `descending` order by setting the argument\n",
    "`ascending=False`."
   ]
  },
  {
   "cell_type": "code",
   "execution_count": null,
   "id": "7c9c9c53",
   "metadata": {},
   "outputs": [],
   "source": [
    "sorted_ratings = cereal.sort_values(by='rating', ascending=False)\n",
    "sorted_ratings"
   ]
  },
  {
   "cell_type": "markdown",
   "id": "371d63de",
   "metadata": {},
   "source": [
    "Perfect, now we have the highest rated cereals at the top of the\n",
    "dataframe."
   ]
  }
 ],
 "metadata": {
  "jupytext": {
   "formats": "md:myst"
  },
  "kernelspec": {
   "display_name": "Python 3 (ipykernel)",
   "language": "python",
   "name": "python3"
  }
 },
 "nbformat": 4,
 "nbformat_minor": 5
}
