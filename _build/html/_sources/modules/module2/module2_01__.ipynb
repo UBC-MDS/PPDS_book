{
 "cells": [
  {
   "cell_type": "markdown",
   "id": "d347b5cc",
   "metadata": {},
   "source": [
    "# Reading in Different File Types\n",
    "\n",
    ":::{admonition} Watch it\n",
    "See the accompanied youtube video at <a href=\"https://www.youtube.com/embed/WCWi1R2CQsY?rel=0?start=0&end=270\" target=\"_blank\">the link here.</a>\n",
    ":::\n",
    "\n",
    "\n",
    "## Reading in Different File Types\n",
    "\n",
    "In the last module, we learned how to read in a `csv` file but loading\n",
    "in data is not restricted to this file type.\n",
    "\n",
    "`pandas` facilitates the loading of data from many different file types\n",
    "including::\n",
    "\n",
    "  - A URL: If the data is stored publicly on a webpage, pandas can read\n",
    "    it directly in from the page address.\n",
    "  - A `txt` file: We saw what a plain text file looked like in the last\n",
    "    module and it is generally a simple manner of storing data.  \n",
    "  - An `xlsx` file: This is a Microsoft Excel spreadsheet. This is\n",
    "    different than a regular `csv` file as an Excel file can contain\n",
    "    many different sheets and can be formatted uniquely and specifically\n",
    "    for an individual’s needs.\n",
    "\n",
    "Of course, there are many other file types but we will focus on these\n",
    "for this course.\n",
    "\n",
    "---\n",
    "\n",
    "## Reading from a URL\n",
    "\n",
    "If the data is accessible publicly on a website, you can read in data\n",
    "directly from the webpage it is stored on. For example, this code and\n",
    "all the files that make up this course are all openly available and can\n",
    "be  <a href=\"https://github.com/UBC-MDS/MCL-DSCI-011-programming-in-python\" target=\"_blank\">viewed\n",
    "online</a>.\n",
    "\n",
    "The `candybar.csv` file that we used in the last module, is stored at\n",
    "this URL.\n",
    "\n",
    "<a href=\"https://raw.githubusercontent.com/UBC-MDS/MCL-DSCI-011-programming-in-python/master/data/candybars.csv\" target=\"_blank\">https://raw.githubusercontent.com/UBC-MDS/MCL-DSCI-011-programming-in-python/master/data/candybars.csv</a>.\n",
    "\n",
    "\n",
    "<img src='../imgs/module2/url-samp.png'  alt=\"404 image\"/> \n",
    "\n",
    "You can see that it looks like a plain text file with each line being a\n",
    "row and each column value separated with a comma.\n",
    "\n",
    "The code required to read in this URL looks like this."
   ]
  },
  {
   "cell_type": "code",
   "execution_count": 1,
   "id": "c380602e",
   "metadata": {},
   "outputs": [
    {
     "ename": "NameError",
     "evalue": "name 'pd' is not defined",
     "output_type": "error",
     "traceback": [
      "\u001b[0;31m---------------------------------------------------------------------------\u001b[0m",
      "\u001b[0;31mNameError\u001b[0m                                 Traceback (most recent call last)",
      "\u001b[0;32m/var/folders/p4/1bqk_8p16m98bm64l88gd_vc0000gn/T/ipykernel_3341/1129269113.py\u001b[0m in \u001b[0;36m<module>\u001b[0;34m\u001b[0m\n\u001b[0;32m----> 1\u001b[0;31m \u001b[0mcandybars\u001b[0m \u001b[0;34m=\u001b[0m \u001b[0mpd\u001b[0m\u001b[0;34m.\u001b[0m\u001b[0mread_csv\u001b[0m\u001b[0;34m(\u001b[0m\u001b[0;34m'https://raw.githubusercontent.com/UBC-MDS/MCL-DSCI-511-programming-in-python/master/data/candybars.csv'\u001b[0m\u001b[0;34m)\u001b[0m\u001b[0;34m\u001b[0m\u001b[0;34m\u001b[0m\u001b[0m\n\u001b[0m\u001b[1;32m      2\u001b[0m \u001b[0mcandybars\u001b[0m\u001b[0;34m.\u001b[0m\u001b[0mhead\u001b[0m\u001b[0;34m(\u001b[0m\u001b[0;34m)\u001b[0m\u001b[0;34m\u001b[0m\u001b[0;34m\u001b[0m\u001b[0m\n",
      "\u001b[0;31mNameError\u001b[0m: name 'pd' is not defined"
     ]
    }
   ],
   "source": [
    "candybars = pd.read_csv('https://raw.githubusercontent.com/UBC-MDS/MCL-DSCI-511-programming-in-python/master/data/candybars.csv')\n",
    "candybars.head()"
   ]
  },
  {
   "cell_type": "markdown",
   "id": "336770b5",
   "metadata": {},
   "source": [
    "It uses the same `pd.read_csv()` function we saw when reading in csv\n",
    "files locally.\n",
    "\n",
    "\n",
    "## Reading in a Text File\n",
    "\n",
    "\n",
    "Reading in `txt` files can be a little less standard.\n",
    "\n",
    "Sometimes the character separating column values are not always commas\n",
    "like we saw before.\n",
    "\n",
    "There are many different options and when we read in the data, we need\n",
    "to specify how the data should be recognized.\n",
    "\n",
    "Let’s load in the `candybars-text.txt` file."
   ]
  },
  {
   "cell_type": "code",
   "execution_count": 2,
   "id": "57622f21",
   "metadata": {},
   "outputs": [
    {
     "ename": "NameError",
     "evalue": "name 'pd' is not defined",
     "output_type": "error",
     "traceback": [
      "\u001b[0;31m---------------------------------------------------------------------------\u001b[0m",
      "\u001b[0;31mNameError\u001b[0m                                 Traceback (most recent call last)",
      "\u001b[0;32m/var/folders/p4/1bqk_8p16m98bm64l88gd_vc0000gn/T/ipykernel_3341/2086048454.py\u001b[0m in \u001b[0;36m<module>\u001b[0;34m\u001b[0m\n\u001b[0;32m----> 1\u001b[0;31m \u001b[0mcandybars\u001b[0m \u001b[0;34m=\u001b[0m \u001b[0mpd\u001b[0m\u001b[0;34m.\u001b[0m\u001b[0mread_csv\u001b[0m\u001b[0;34m(\u001b[0m\u001b[0;34m'candybars-text.txt'\u001b[0m\u001b[0;34m)\u001b[0m\u001b[0;34m\u001b[0m\u001b[0;34m\u001b[0m\u001b[0m\n\u001b[0m\u001b[1;32m      2\u001b[0m \u001b[0mcandybars\u001b[0m\u001b[0;34m.\u001b[0m\u001b[0mhead\u001b[0m\u001b[0;34m(\u001b[0m\u001b[0;34m)\u001b[0m\u001b[0;34m\u001b[0m\u001b[0;34m\u001b[0m\u001b[0m\n",
      "\u001b[0;31mNameError\u001b[0m: name 'pd' is not defined"
     ]
    }
   ],
   "source": [
    "candybars = pd.read_csv('candybars-text.txt')\n",
    "candybars.head()"
   ]
  },
  {
   "cell_type": "markdown",
   "id": "b3a78c66",
   "metadata": {},
   "source": [
    "This is the same as the `candybars.csv` data but saved as a `txt` file.\n",
    "\n",
    "Look what happens when we load it in using the same syntax we are used\n",
    "to.\n",
    "\n",
    "This is not ideal.\n",
    "\n",
    "What you should notice is instead of each column value being separated\n",
    "by a comma, it is now separated by `\\t`.\n",
    "\n",
    "This is called the **delimiter**.\n",
    "\n",
    "In this specific case, a `\\t` delimiter is a “tab”.\n",
    "\n",
    "We need to tell `pd.read_csv()` to separate each value on our delimiter\n",
    "`\\t`."
   ]
  },
  {
   "cell_type": "code",
   "execution_count": 3,
   "id": "f8f6fdea",
   "metadata": {},
   "outputs": [
    {
     "ename": "NameError",
     "evalue": "name 'pd' is not defined",
     "output_type": "error",
     "traceback": [
      "\u001b[0;31m---------------------------------------------------------------------------\u001b[0m",
      "\u001b[0;31mNameError\u001b[0m                                 Traceback (most recent call last)",
      "\u001b[0;32m/var/folders/p4/1bqk_8p16m98bm64l88gd_vc0000gn/T/ipykernel_3341/581692996.py\u001b[0m in \u001b[0;36m<module>\u001b[0;34m\u001b[0m\n\u001b[0;32m----> 1\u001b[0;31m \u001b[0mcandybars\u001b[0m \u001b[0;34m=\u001b[0m \u001b[0mpd\u001b[0m\u001b[0;34m.\u001b[0m\u001b[0mread_csv\u001b[0m\u001b[0;34m(\u001b[0m\u001b[0;34m'candybars-text.txt'\u001b[0m\u001b[0;34m,\u001b[0m \u001b[0mdelimiter\u001b[0m\u001b[0;34m=\u001b[0m\u001b[0;34m'\\t'\u001b[0m\u001b[0;34m)\u001b[0m\u001b[0;34m\u001b[0m\u001b[0;34m\u001b[0m\u001b[0m\n\u001b[0m\u001b[1;32m      2\u001b[0m \u001b[0mcandybars\u001b[0m\u001b[0;34m.\u001b[0m\u001b[0mhead\u001b[0m\u001b[0;34m(\u001b[0m\u001b[0;34m)\u001b[0m\u001b[0;34m\u001b[0m\u001b[0;34m\u001b[0m\u001b[0m\n",
      "\u001b[0;31mNameError\u001b[0m: name 'pd' is not defined"
     ]
    }
   ],
   "source": [
    "candybars = pd.read_csv('candybars-text.txt', delimiter='\\t')\n",
    "candybars.head()"
   ]
  },
  {
   "cell_type": "markdown",
   "id": "d21329a9",
   "metadata": {},
   "source": [
    "That’s much better.\n",
    "\n",
    "The delimiter won’t always be `\\t` for `txt` files. The most common\n",
    "delimiters are `;`, `,`, `\\t`, and sometimes even just spaces.\n",
    "\n",
    "\n",
    "## Reading in an Excel File (`xlsx`)\n",
    "\n",
    "Excel files need special attention because they give the user the\n",
    "capability of additional formatting including saving multiple dataframes\n",
    "on different “sheets” within a single file.\n",
    "\n",
    "If this is the case, we need to specify which sheet we want.\n",
    "\n",
    "Since this is a new type of animal, we also need a new verb. Enter\n",
    "`read_excel()`.\n",
    "\n",
    "Our candybars dataframe is now saved as an excel spreadsheet named\n",
    "`foods.xlsx` on a sheet named `chocolate`.\n",
    "\n",
    "Here is how we would read it in."
   ]
  },
  {
   "cell_type": "code",
   "execution_count": 4,
   "id": "0af79a37",
   "metadata": {},
   "outputs": [
    {
     "ename": "NameError",
     "evalue": "name 'pd' is not defined",
     "output_type": "error",
     "traceback": [
      "\u001b[0;31m---------------------------------------------------------------------------\u001b[0m",
      "\u001b[0;31mNameError\u001b[0m                                 Traceback (most recent call last)",
      "\u001b[0;32m/var/folders/p4/1bqk_8p16m98bm64l88gd_vc0000gn/T/ipykernel_3341/3686699700.py\u001b[0m in \u001b[0;36m<module>\u001b[0;34m\u001b[0m\n\u001b[0;32m----> 1\u001b[0;31m \u001b[0mcandybars\u001b[0m \u001b[0;34m=\u001b[0m \u001b[0mpd\u001b[0m\u001b[0;34m.\u001b[0m\u001b[0mread_excel\u001b[0m\u001b[0;34m(\u001b[0m\u001b[0;34m'foods.xlsx'\u001b[0m\u001b[0;34m,\u001b[0m \u001b[0msheet_name\u001b[0m\u001b[0;34m=\u001b[0m\u001b[0;34m'chocolate'\u001b[0m\u001b[0;34m)\u001b[0m\u001b[0;34m\u001b[0m\u001b[0;34m\u001b[0m\u001b[0m\n\u001b[0m\u001b[1;32m      2\u001b[0m \u001b[0mcandybars\u001b[0m\u001b[0;34m\u001b[0m\u001b[0;34m\u001b[0m\u001b[0m\n",
      "\u001b[0;31mNameError\u001b[0m: name 'pd' is not defined"
     ]
    }
   ],
   "source": [
    "candybars = pd.read_excel('foods.xlsx', sheet_name='chocolate')\n",
    "candybars"
   ]
  },
  {
   "cell_type": "markdown",
   "id": "ccff9de1",
   "metadata": {},
   "source": [
    "## Reading in Data from a Different File\n",
    "\n",
    "\n",
    "Something you have seen in Module 1’s exercises is that when reading in\n",
    "the data there is always a `data/` before the file name.\n",
    "\n",
    "This is because we are running the current code in a file that is\n",
    "located in a different folder than the data.\n",
    "\n",
    "The `data` is specifying a folder in our current directory (folder).\n",
    "\n",
    "We need to specify the path to the `csv` file through the subdirectory.\n",
    "\n",
    "\n",
    "<img src='../imgs/module2/datafile.png'  alt=\"404 image\"/> \n",
    "\n",
    "\n",
    "This translates to the syntax `data/canucks.csv`.\n",
    "\n",
    "\n",
    "This syntax is not restricted to a single subdirectory and could even\n",
    "have multiple folders between the current location and the final file\n",
    "name.\n",
    "\n",
    "*_Example:_*\n",
    "\n",
    "`data/module3/question2/candybars.csv`\n",
    "\n",
    "<br> <br>\n",
    "\n",
    "<img src='../imgs/module2/more_files.png'  alt=\"404 image\"/> \n",
    "\n",
    "\n",
    "You can see the whole course structure and it’s subdirectories\n",
    "<a href=\"https://github.com/UBC-MDS/MCL-DSCI-511-programming-in-python\" target=\"_blank\">openly\n",
    "online</a>.\n",
    "\n",
    "In this course, we save all our data in a folder called `data` so when\n",
    "asked to read in data, take care in future exercises to add the full\n",
    "path to the required file.\n",
    "\n",
    "\n",
    "<img src='../imgs/module2/online.png'  alt=\"404 image\"/> \n",
    "\n",
    "\n",
    "It may be a good idea to look in the\n",
    "<a href=\"https://github.com/UBC-MDS/MCL-DSCI-511-programming-in-python/tree/master/data\" target=\"_blank\">data\n",
    "folder</a> to see exactly where the data you are loading in the\n",
    "exercises is coming from.\n",
    "\n",
    ":::{admonition} Let’s apply what we learned!\n",
    "\n",
    "1\\. What is a delimiter?                             \n",
    "a) It defines how column values are separated\n",
    "b) It prevents a limitation on the data being read it     \n",
    "c) It is a manner of deleting values from a dataframe           \n",
    "\n",
    "2\\. What argument is needed if we want to read in data from an Excel spreadsheet where there is data saved on different sheets?      \n",
    "a) `header`        \n",
    "b) `sheet_name`        \n",
    "c) `sheet`        \n",
    "\n",
    ":::\n",
    "\n",
    "```{admonition} Solutions!\n",
    ":class: tip, dropdown\n",
    "\n",
    "1. b) It defines how column values are separated \n",
    "2. c) `sheet_name`"
   ]
  }
 ],
 "metadata": {
  "jupytext": {
   "formats": "md:myst",
   "text_representation": {
    "extension": ".md",
    "format_name": "myst",
    "format_version": "0.8",
    "jupytext_version": "1.10.3"
   }
  },
  "kernelspec": {
   "display_name": "Python 3",
   "language": "python",
   "name": "python3"
  },
  "language_info": {
   "codemirror_mode": {
    "name": "ipython",
    "version": 3
   },
   "file_extension": ".py",
   "mimetype": "text/x-python",
   "name": "python",
   "nbconvert_exporter": "python",
   "pygments_lexer": "ipython3",
   "version": "3.9.6"
  },
  "source_map": [
   13,
   67,
   70,
   89,
   92,
   111,
   114,
   138,
   141
  ]
 },
 "nbformat": 4,
 "nbformat_minor": 5
}