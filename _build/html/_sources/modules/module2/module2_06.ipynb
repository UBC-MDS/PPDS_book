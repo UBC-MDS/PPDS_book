{
 "cells": [
  {
   "cell_type": "markdown",
   "id": "01cb7612",
   "metadata": {},
   "source": [
    "# Reading arguments\n",
    "\n",
    ":::{admonition} Watch it\n",
    "See the accompanied youtube video at <a href=\"https://www.youtube.com/embed/WCWi1R2CQsY?start=272&end=471\" target=\"_blank\">the link here.</a>\n",
    ":::"
   ]
  },
  {
   "cell_type": "code",
   "execution_count": null,
   "id": "8f5b12b8",
   "metadata": {
    "tags": [
     "remove-cell"
    ]
   },
   "outputs": [],
   "source": [
    "import pandas as pd\n",
    "import numpy as np\n",
    "\n",
    "pd.set_option('display.width', 350)\n",
    "np.set_printoptions(linewidth=400)\n",
    "pd.set_option('display.max_columns', 15)\n",
    "pd.set_option('display.max_rows', 15)"
   ]
  },
  {
   "cell_type": "markdown",
   "id": "40cad380",
   "metadata": {},
   "source": [
    "## Arguments\n",
    "\n",
    "When we load in our data we use different arguments to make sure it’s\n",
    "organized how we want it.\n",
    "\n",
    "`delimiter` is an argument we have already discussed that instructs on\n",
    "how to separate each value in the data.\n",
    "\n",
    "This is only the tip of the iceberg.\n",
    "\n",
    "There are many others that are helpful when reading in our data, such as\n",
    "`index_col`, `header`, `nrows`, and `usecols`.\n",
    "\n",
    "Here, we are going to introduce different arguments for `pd.read_csv()`\n",
    "and `pd.read_excel()`:\n",
    "\n",
    "  - `index_col`\n",
    "  - `header`\n",
    "  - `nrows`\n",
    "  - `usecols`\n",
    "\n",
    "If you wish to know more, you can find the documentation at the\n",
    "following links:\n",
    "\n",
    "  - <a href=\"https://pandas.pydata.org/pandas-docs/stable/reference/api/pandas.read_csv.html\" target=\"_blank\">`pd.read_csv()`</a>\n",
    "  - <a href=\"https://pandas.pydata.org/pandas-docs/stable/reference/api/pandas.read_excel.html\" target=\"_blank\">`pd.read_excel()`</a>\n",
    "\n",
    "## index\\_col\n",
    "\n",
    "`index_col` is an argument that indicates which column will be\n",
    "acting as the index label.\n",
    "\n",
    "In most of the cases we have encountered, we did not use this argument\n",
    "and instead relied on the pandas default, which is to use ascending\n",
    "integers for the index.\n",
    "\n",
    "We can, however, specify a column in the data to become the index.\n",
    "\n",
    "It’s in our best interest that the column we choose have unique values.\n",
    "\n",
    "For our `cereal.csv` let’s specify the `name` column as our index."
   ]
  },
  {
   "cell_type": "code",
   "execution_count": null,
   "id": "3ceef51f",
   "metadata": {},
   "outputs": [],
   "source": [
    "df = pd.read_csv('cereal.csv', index_col=\"name\")\n",
    "df.head()"
   ]
  },
  {
   "cell_type": "markdown",
   "id": "7a865c2b",
   "metadata": {},
   "source": [
    "The `index_col` argument also take in positions.\n",
    "\n",
    "The `name` column in our data is in the 0th position so we can also\n",
    "specify the index like we show here with `index_col=0`."
   ]
  },
  {
   "cell_type": "code",
   "execution_count": null,
   "id": "c92c691f",
   "metadata": {},
   "outputs": [],
   "source": [
    "df = pd.read_csv('cereal.csv', index_col=0)\n",
    "df.head()"
   ]
  },
  {
   "cell_type": "markdown",
   "id": "1ce06129",
   "metadata": {},
   "source": [
    "## header\n",
    "\n",
    "We have been lucky up until now that all the data we have loaded in has\n",
    "been particularly straightforward.\n",
    "\n",
    "Sometimes with data, there are a few lines of text explaining important\n",
    "points about the file.\n",
    "\n",
    "\n",
    "We do not want to include this in our dataframe and therefore we need to\n",
    "specify exactly when our dataframe begins.\n",
    "\n",
    "This is where `header` comes in.\n",
    "\n",
    "Take a look at\n",
    "<a href=\"https://github.com/UBC-MDS/MCL-DSCI-511-programming-in-python/blob/master/slides/candybars-h.csv\" target=\"_blank\">`candybars-h.csv`\n",
    "</a> below as an example.\n",
    "\n",
    "<img src='../imgs/module2/header_textedit.png'  alt=\"404 image\"/> \n",
    "\n",
    "If we look at the data with a regular text editor, the data doesn’t\n",
    "start until the 3rd line which would be the equivalent of position 2\n",
    "(since we begin counting from 0).\n",
    "\n",
    "If we load this dataset without any arguments, we get this as the\n",
    "output."
   ]
  },
  {
   "cell_type": "code",
   "execution_count": null,
   "id": "c6d47b6e",
   "metadata": {},
   "outputs": [],
   "source": [
    "candybars = pd.read_csv('candybars-h.csv')\n",
    "candybars"
   ]
  },
  {
   "cell_type": "markdown",
   "id": "fc4da87d",
   "metadata": {},
   "source": [
    "We see that there are no clear column names and things are quite a\n",
    "mess\\!\n",
    "\n",
    "If we use `header=2` to indicate that the data actually begins at\n",
    "position 2, then things start to look much better."
   ]
  },
  {
   "cell_type": "code",
   "execution_count": null,
   "id": "5b849486",
   "metadata": {},
   "outputs": [],
   "source": [
    "candybars = pd.read_csv('candybars-h.csv', header=2)\n",
    "candybars"
   ]
  },
  {
   "cell_type": "markdown",
   "id": "5c57e3e0",
   "metadata": {},
   "source": [
    " \n",
    "\n",
    "## nrows\n",
    "\n",
    "`nrows` is an argument in `pd.read_csv()` that is useful when you only\n",
    "want to load in part of the dataframe.\n",
    "\n",
    "Perhaps the file you have is large and you only want a sample of it.\n",
    "\n",
    "`nrows` will limit the number of rows that you read in."
   ]
  },
  {
   "cell_type": "code",
   "execution_count": null,
   "id": "2e3f0cb2",
   "metadata": {},
   "outputs": [],
   "source": [
    "candybars = pd.read_csv('candybars.csv', nrows=7)\n",
    "candybars"
   ]
  },
  {
   "cell_type": "markdown",
   "id": "657435da",
   "metadata": {},
   "source": [
    "This code loads in only the first 7 rows of our candybar dataset.\n",
    "\n",
    "\n",
    "## usecols\n",
    "\n",
    "Similarly to how `nrows` specifies how many rows to read in, `usecols`\n",
    "selects which columns to load from the data.\n",
    "\n",
    "Perhaps the only columns relevant to our analysis are the columns\n",
    "`name`, `weight` and `available_canada_america`.\n",
    "\n",
    "We can forgo the other columns when reading the data in.\n",
    "\n",
    "In a similar way to selecting columns using `.iloc[]`, we specify the\n",
    "desired column indices in square brackets."
   ]
  },
  {
   "cell_type": "code",
   "execution_count": null,
   "id": "4c894a4c",
   "metadata": {},
   "outputs": [],
   "source": [
    "candybars = pd.read_csv('candybars.csv', usecols=[0, 1, 10])\n",
    "candybars"
   ]
  },
  {
   "cell_type": "markdown",
   "id": "fd5b9994",
   "metadata": {},
   "source": [
    "The `usecols` argument accepts either index positions or labels so we\n",
    "could also use the column names in square brackets as shown here."
   ]
  },
  {
   "cell_type": "code",
   "execution_count": null,
   "id": "b6b6a2c2",
   "metadata": {},
   "outputs": [],
   "source": [
    "candybars = pd.read_csv('candybars.csv', usecols=['name', 'weight', 'available_canada_america'])\n",
    "candybars"
   ]
  },
  {
   "cell_type": "markdown",
   "id": "9e3dd0b9",
   "metadata": {},
   "source": [
    ":::{admonition} Let’s apply what we learned!\n",
    "\n",
    " \n",
    "1\\.Which argument will assign the index when reading in your data with `pd.read_excel()`?                                \n",
    "a) `header`       \n",
    "b) `ncols`          \n",
    "c) `index_col`             \n",
    " \n",
    "2\\. Which argument will select only specific columns of the data file with `pd.read_csv()`?      \n",
    "a) `header`      \n",
    "b) `nrows`          \n",
    "c) `usecols`       \n",
    "\n",
    ":::\n",
    "\n",
    "```{admonition} Solutions!\n",
    ":class: tip, dropdown\n",
    "\n",
    "1. c) `index_col`       \n",
    "2. c) `usecols`            \n",
    "```"
   ]
  }
 ],
 "metadata": {
  "jupytext": {
   "formats": "md:myst"
  },
  "kernelspec": {
   "display_name": "Python 3 (ipykernel)",
   "language": "python",
   "name": "python3"
  }
 },
 "nbformat": 4,
 "nbformat_minor": 5
}
