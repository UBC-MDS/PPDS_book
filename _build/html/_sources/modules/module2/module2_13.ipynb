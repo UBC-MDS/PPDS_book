{
 "cells": [
  {
   "cell_type": "markdown",
   "id": "44bc39f6",
   "metadata": {},
   "source": [
    "# Column arithmetic and creation\n",
    "\n",
    ":::{admonition} Watch it\n",
    "See the accompanied youtube video at <a href=\"https://www.youtube.com/embed/WCWi1R2CQsY?start=591&end=845\" target=\"_blank\">the link here.</a>\n",
    ":::"
   ]
  },
  {
   "cell_type": "code",
   "execution_count": null,
   "id": "b002835e",
   "metadata": {
    "tags": [
     "remove-cell"
    ]
   },
   "outputs": [],
   "source": [
    "import pandas as pd\n",
    "import numpy as np\n",
    "\n",
    "pd.set_option('display.width', 350)\n",
    "np.set_printoptions(linewidth=400)\n",
    "pd.set_option('display.max_columns', 15)\n",
    "pd.set_option('display.max_rows', 15)"
   ]
  },
  {
   "cell_type": "markdown",
   "id": "6b1e8821",
   "metadata": {},
   "source": [
    "Doing some sort of transformation on the columns of a dataframe will\n",
    "most likely come up in your analysis somewhere and it’s not always\n",
    "straightforward.\n",
    "\n",
    "Let’s welcome back the `cereal.csv` data we have been working with."
   ]
  },
  {
   "cell_type": "code",
   "execution_count": null,
   "id": "ca6d8352",
   "metadata": {},
   "outputs": [],
   "source": [
    "cereal = pd.read_csv('cereal.csv')\n",
    "cereal.head()"
   ]
  },
  {
   "cell_type": "markdown",
   "id": "a6d76a75",
   "metadata": {},
   "source": [
    "**Attribution:**  \n",
    "*“[80 Cereals](https://www.kaggle.com/crawford/80-cereals/)” (c) by\n",
    "[Chris Crawford](https://www.linkedin.com/in/crawforc3/) is licensed\n",
    "under [Creative Commons Attribution-ShareAlike 3.0\n",
    "Unported](http://creativecommons.org/licenses/by-sa/3.0/)*\n",
    "\n",
    "\n",
    "To make things especially clear, for the next few scenarios let’s only\n",
    "use the first 5 rows of the dataset."
   ]
  },
  {
   "cell_type": "code",
   "execution_count": null,
   "id": "3fe2fe4f",
   "metadata": {},
   "outputs": [],
   "source": [
    "cereal= cereal.iloc[:5]\n",
    "cereal"
   ]
  },
  {
   "cell_type": "markdown",
   "id": "fded2f2f",
   "metadata": {},
   "source": [
    "Take this next scenario.\n",
    "\n",
    "Perhaps we recently read the cereal data’s documentation explaining that\n",
    "the `fat` column is being expressed as grams and we are interested in\n",
    "milligrams.\n",
    "\n",
    "How can we rectify this?\n",
    "\n",
    "We need to multiply each of the row’s fat values by 1000.\n",
    "\n",
    "<img src='../imgs/module2/times1000.png'  alt=\"404 image\"/> \n",
    "\n",
    "Here is where some magic happens.\n",
    "\n",
    "Python doesn’t require us to make a whole column filled with 1000s to\n",
    "get the result we want.\n",
    "\n",
    "It simply multiplies each value by 1000. (In Python we use `*` for\n",
    "multiplication.)\n",
    "\n",
    "So our original fat column in the cereal dataframe is transformed from this:"
   ]
  },
  {
   "cell_type": "code",
   "execution_count": null,
   "id": "9528b3ad",
   "metadata": {},
   "outputs": [],
   "source": [
    "cereal['fat']"
   ]
  },
  {
   "cell_type": "markdown",
   "id": "00fcf831",
   "metadata": {},
   "source": [
    "To this:"
   ]
  },
  {
   "cell_type": "code",
   "execution_count": null,
   "id": "b1301f7f",
   "metadata": {},
   "outputs": [],
   "source": [
    "cereal['fat'] * 1000"
   ]
  },
  {
   "cell_type": "markdown",
   "id": "cb1a3933",
   "metadata": {},
   "source": [
    "See how each value has changed?\n",
    "\n",
    "Note that when we do any type of operations on columns, we use single\n",
    "square brackets.\n",
    "\n",
    "\n",
    "We can do the same thing with most operations. Let’s divide the rating\n",
    "of each cereal by 10 so that it lies on a 10 point scale."
   ]
  },
  {
   "cell_type": "code",
   "execution_count": null,
   "id": "575b0542",
   "metadata": {},
   "outputs": [],
   "source": [
    "cereal['rating'] "
   ]
  },
  {
   "cell_type": "markdown",
   "id": "67611cf3",
   "metadata": {},
   "source": [
    "The ratings column gets transformed to single digits instead of double\n",
    "digits now."
   ]
  },
  {
   "cell_type": "code",
   "execution_count": null,
   "id": "9ca69e36",
   "metadata": {},
   "outputs": [],
   "source": [
    "cereal['rating'] / 10"
   ]
  },
  {
   "cell_type": "markdown",
   "id": "8a441ca4",
   "metadata": {},
   "source": [
    "Every row’s value is changed by the operation.\n",
    "\n",
    "\n",
    "<img src='../imgs/module2/divide10.png'  alt=\"404 image\"/> \n",
    "\n",
    "\n",
    "\n",
    "We are not limited to simply taking a column and transforming it by a\n",
    "single number, say by multiplying or dividing.\n",
    "\n",
    "We can do operations involving multiple columns as well. Perhaps we\n",
    "wanted to know the amount of sugar (`sugar`) per cup of cereal (`cups`).\n",
    "\n",
    "The expected result would look something like this diagram.\n",
    "\n",
    "\n",
    "<img src='../imgs/module2/sugarcups.png'  alt=\"404 image\"/> \n",
    "\n",
    "To get our desired output of sugar content per cup our code looks like\n",
    "this."
   ]
  },
  {
   "cell_type": "code",
   "execution_count": null,
   "id": "0a2e6eb3",
   "metadata": {},
   "outputs": [],
   "source": [
    "cereal['sugars'] / cereal['cups']"
   ]
  },
  {
   "cell_type": "markdown",
   "id": "ab29f310",
   "metadata": {},
   "source": [
    "Remember that with any column operation we use only single square\n",
    "brackets on our columns.\n",
    "\n",
    "\n",
    "Each sugar row value is divided by its corresponding cups value.\n",
    "\n",
    "\n",
    "Just to stress the point of why we use single square brackets for our\n",
    "operations, here is what happens when we use double square brackets."
   ]
  },
  {
   "cell_type": "code",
   "execution_count": null,
   "id": "77f8f4cb",
   "metadata": {},
   "outputs": [],
   "source": [
    "cereal[['sugars']] / cereal[['cups']]"
   ]
  },
  {
   "cell_type": "markdown",
   "id": "6e6fe1d5",
   "metadata": {},
   "source": [
    "This doesn’t appear very useful.\n",
    "\n",
    "## Column Creation\n",
    "\n",
    "Up until now, all of these operations have been done without being added\n",
    "to our cereal dataframe.\n",
    "\n",
    "Let’s explore how we can add new columns to a less detailed version of\n",
    "our cereal dataframe.\n",
    "\n",
    "We’ll be working with a smaller dataframe containing only a few columns\n",
    "columns so that it’s easier to follow the examples."
   ]
  },
  {
   "cell_type": "code",
   "execution_count": null,
   "id": "84779af9",
   "metadata": {},
   "outputs": [],
   "source": [
    "cereal = pd.read_csv('cereal.csv', usecols=['name', 'mfr','type', 'fat', 'sugars', 'weight', 'cups','rating'])\n",
    "cereal"
   ]
  },
  {
   "cell_type": "markdown",
   "id": "7f952531",
   "metadata": {},
   "source": [
    "In the next scenario, we have decided that our `weight` column should\n",
    "show the weight of each cereal in grams instead of ounces.\n",
    "\n",
    "We are going to save the conversion factor of grams to ounces in an\n",
    "object named `oz_to_g`.\n",
    "\n",
    "Let’s start with just the operation for this."
   ]
  },
  {
   "cell_type": "code",
   "execution_count": null,
   "id": "37e2922f",
   "metadata": {},
   "outputs": [],
   "source": [
    "oz_to_g = 28.3495\n",
    "cereal['weight'] * oz_to_g"
   ]
  },
  {
   "cell_type": "markdown",
   "id": "0eaedf77",
   "metadata": {},
   "source": [
    "Next, we combine our operation with the implementation of adding it as a\n",
    "new column to the dataframe. The verb `.assign()` allows us to specify a\n",
    "column name to our result using an equal sign `=`.\n",
    "\n",
    "We are going to name our new column `weight_g` (for grams).\n",
    "\n",
    "\n",
    "Just like we did earlier in the module, we need to save the dataframe to\n",
    "an object when making changes involving columns. This will permanently\n",
    "save the column `weight_g` to the dataframe `cereal`."
   ]
  },
  {
   "cell_type": "code",
   "execution_count": null,
   "id": "9ab67a99",
   "metadata": {},
   "outputs": [],
   "source": [
    "cereal = cereal.assign(weight_g=cereal['weight'] * oz_to_g)\n",
    "cereal.head()"
   ]
  },
  {
   "cell_type": "markdown",
   "id": "1a4e211f",
   "metadata": {},
   "source": [
    "Let’s try another example.\n",
    "\n",
    "This time we want to save our sugar content per cereal cup as a column\n",
    "in our existing dataframe.\n",
    "\n",
    "Here, you can see the operation by itself, just for teaching\n",
    "purposes."
   ]
  },
  {
   "cell_type": "code",
   "execution_count": null,
   "id": "26ea0bd6",
   "metadata": {},
   "outputs": [],
   "source": [
    "cereal['sugars'] / cereal['cups']"
   ]
  },
  {
   "cell_type": "markdown",
   "id": "951b549b",
   "metadata": {},
   "source": [
    "Below, we combine our calculation with `assign()`,\n",
    "naming the column `sugar_per_cup`."
   ]
  },
  {
   "cell_type": "code",
   "execution_count": null,
   "id": "f38a77f8",
   "metadata": {},
   "outputs": [],
   "source": [
    "cereal = cereal.assign(sugar_per_cup=cereal['sugars'] / cereal['cups'])\n",
    "cereal.head()"
   ]
  },
  {
   "cell_type": "markdown",
   "id": "8b05c3c9",
   "metadata": {},
   "source": [
    ":::{admonition} Let’s apply what we learned!\n",
    "\n",
    "1\\. What is the result if we multiply 2 columns together using the syntax \n",
    "\n",
    "```\n",
    "df[['Column_A']] * df[['Column_B']]\n",
    "```\n",
    "\n",
    "a) A new column in our dataframe with each column value multiplied together for each row.      \n",
    "b) A single column with each column value multiplied together for each row.            \n",
    "c) A dataframe containing 2 new columns with `NaN` values.           \n",
    "\n",
    "        \n",
    "\n",
    "2\\. What is the correct syntax to multiply `Column_A` and `Column_B` from dataframe `df` and save it as a new column named `new_column`?      \n",
    "a) `df = df.assign('new_column'=df['Column_A'] * df['Column_B'])`        \n",
    "b) `df = df.assign(new_column=df['Column_A'] * df['Column_B'])`        \n",
    "c) `df = df.assign[new_column=df('Column_A') * df('Column_B')]`        \n",
    "\n",
    ":::\n",
    "\n",
    "```{admonition} Solutions!\n",
    ":class: tip, dropdown\n",
    "\n",
    "1. c) A dataframe containing 2 new columns with <code>NaN</code> values.        \n",
    "2. b) `df = df.assign(new_column=df['Column_A'] * df['Column_B'])`        \n",
    "\n",
    "```"
   ]
  }
 ],
 "metadata": {
  "jupytext": {
   "formats": "md:myst"
  },
  "kernelspec": {
   "display_name": "Python 3 (ipykernel)",
   "language": "python",
   "name": "python3"
  }
 },
 "nbformat": 4,
 "nbformat_minor": 5
}
