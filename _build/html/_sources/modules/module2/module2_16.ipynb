{
 "cells": [
  {
   "cell_type": "markdown",
   "id": "d372d2eb",
   "metadata": {},
   "source": [
    "# Data Filtering\n",
    "\n",
    ":::{admonition} Watch it\n",
    "See the accompanied youtube video at <a href=\"https://www.youtube.com/embed/WCWi1R2CQsY?start=847&end=1221\" target=\"_blank\">the link here.</a>\n",
    ":::"
   ]
  },
  {
   "cell_type": "code",
   "execution_count": null,
   "id": "6b985350",
   "metadata": {},
   "outputs": [],
   "source": [
    "import pandas as pd\n",
    "import numpy as np\n",
    "\n",
    "pd.set_option('display.width', 350)\n",
    "np.set_printoptions(linewidth=400)\n",
    "pd.set_option('display.max_columns', 20)\n",
    "pd.set_option('display.max_rows', 20)\n"
   ]
  },
  {
   "cell_type": "markdown",
   "id": "63b1e5c0",
   "metadata": {},
   "source": [
    "Filtering is probably one of the most frequent data manipulations you\n",
    "will do in data analysis.\n",
    "\n",
    "Filtering is often used when we are either trying to rid the dataframe\n",
    "of unwanted rows or trying to analyze rows with a particular column\n",
    "value.\n",
    "\n",
    "Let’s try to filter the `cereal.csv` dataset."
   ]
  },
  {
   "cell_type": "code",
   "execution_count": null,
   "id": "a529225f",
   "metadata": {},
   "outputs": [],
   "source": [
    "cereal = pd.read_csv('cereal.csv')\n",
    "cereal.head()"
   ]
  },
  {
   "cell_type": "markdown",
   "id": "340c8f76",
   "metadata": {},
   "source": [
    "## Conditions\n",
    "\n",
    "Suppose you are trying to find the information for cereals with a\n",
    "protein content greater than 4g per serving.\n",
    "\n",
    "Our first instinct would be to write code that looks somewhat like this."
   ]
  },
  {
   "cell_type": "code",
   "execution_count": null,
   "id": "1ea01ac8",
   "metadata": {},
   "outputs": [],
   "source": [
    "cereal['protein'] > 4"
   ]
  },
  {
   "cell_type": "markdown",
   "id": "883df8f0",
   "metadata": {},
   "source": [
    "This can be translated as\n",
    "\n",
    "*“From the `protein` column in the dataframe `cereal`, which have values\n",
    "greater than 4?”*\n",
    "\n",
    "The output shows all the index labels and a column with `True` or\n",
    "`False` values depending on if the row meets the condition. Cereals with\n",
    "`True` have a protein content greater than 4 and `False` if they do not.\n",
    "\n",
    "But we want a dataframe with all the information that only contains the\n",
    "rows with protein above 4.\n",
    "\n",
    "How can this be achieved?\n",
    "\n",
    "We can do this by indexing into our `cereal` dataframe using this column\n",
    "of True/False values. The result is a smaller dataframe that only\n",
    "contains the rows corresponding to the `True` values."
   ]
  },
  {
   "cell_type": "code",
   "execution_count": null,
   "id": "8ade0bd8",
   "metadata": {},
   "outputs": [],
   "source": [
    "cereal[cereal['protein'] > 4]"
   ]
  },
  {
   "cell_type": "markdown",
   "id": "ba6e5ee7",
   "metadata": {},
   "source": [
    "This code can be translated to:\n",
    "\n",
    "*Select the rows from the `cereal` dataframe that, according to the\n",
    "`cereal` dataframe, have a `protein` values greater than 4.*\n",
    "\n",
    "We can see from the output that only the rows meeting the condition are\n",
    "displayed.\n",
    "\n",
    "By the way, it is a common pattern that we’re using the same dataframe\n",
    "twice, namely `cereal`, but it’s not strictly required by pandas.\n",
    "\n",
    "We can do this with equalities as well."
   ]
  },
  {
   "cell_type": "code",
   "execution_count": null,
   "id": "730bc230",
   "metadata": {},
   "outputs": [],
   "source": [
    "cereal[cereal['protein'] == 4]"
   ]
  },
  {
   "cell_type": "markdown",
   "id": "0063888d",
   "metadata": {},
   "source": [
    "Now we get all the cereals with a protein content of exactly 4g per\n",
    "serving.\n",
    "\n",
    "The key point to remember here is that we use **two** equal signs.\n",
    "\n",
    "In Python, a single `=` is used as an assignment operator. We are\n",
    "setting something to equal something else.\n",
    "\n",
    "The double equal sign operator is used for comparison. We check if\n",
    "certain values are equivalent to one another.\n",
    "\n",
    "\n",
    "By the way, these conventions were set a long time ago when people made\n",
    "the early programming languages. In hindsight, maybe something like `=?`\n",
    "would have been more clear, but the double equal sign for comparison is\n",
    "now a standard.\n",
    "\n",
    "\n",
    "We can filter categorical columns too. In this example, we only want\n",
    "cereals from the manufacturer “Q” (For Quaker):\n",
    "\n",
    "Here, we are using the double equal sign operator that we saw in the\n",
    "last slide."
   ]
  },
  {
   "cell_type": "code",
   "execution_count": null,
   "id": "a101da73",
   "metadata": {},
   "outputs": [],
   "source": [
    "cereal[cereal['mfr'] == 'Q']"
   ]
  },
  {
   "cell_type": "markdown",
   "id": "3cd93b75",
   "metadata": {},
   "source": [
    "## Multiple Condition Filtering - “and”\n",
    "\n",
    "We now know how to filter on one condition but how do we filter if we\n",
    "have many?\n",
    "\n",
    "Perhaps we only want cereals with protein content between 4 to 5 grams?\n",
    "\n",
    "To find the cereals that meet protein contents greater or equal to 4, we\n",
    "use the code shown here."
   ]
  },
  {
   "cell_type": "code",
   "execution_count": null,
   "id": "d1faa519",
   "metadata": {},
   "outputs": [],
   "source": [
    "cereal[cereal['protein'] >= 4]"
   ]
  },
  {
   "cell_type": "markdown",
   "id": "498aa31c",
   "metadata": {},
   "source": [
    "And the cereals that meet the condition of protein content below or\n",
    "equal to 5 would be obtained as shown here."
   ]
  },
  {
   "cell_type": "code",
   "execution_count": null,
   "id": "726a2f25",
   "metadata": {},
   "outputs": [],
   "source": [
    "cereal[cereal['protein'] <= 5]"
   ]
  },
  {
   "cell_type": "markdown",
   "id": "c3f0a7f9",
   "metadata": {},
   "source": [
    "We can combine the two conditions using the `&` operator. This allows us\n",
    "to obtain cereals that meet **both** conditions."
   ]
  },
  {
   "cell_type": "code",
   "execution_count": null,
   "id": "f6ceb834",
   "metadata": {
    "tags": [
     "hide-output"
    ]
   },
   "outputs": [],
   "source": [
    "cereal[cereal['protein'] >= 4]"
   ]
  },
  {
   "cell_type": "code",
   "execution_count": null,
   "id": "70c0e258",
   "metadata": {
    "tags": [
     "hide-output"
    ]
   },
   "outputs": [],
   "source": [
    "cereal[cereal['protein'] <= 5]"
   ]
  },
  {
   "cell_type": "code",
   "execution_count": null,
   "id": "64a7a77b",
   "metadata": {},
   "outputs": [],
   "source": [
    "cereal[(cereal['protein'] >= 4) & (cereal['protein'] <= 5)]"
   ]
  },
  {
   "cell_type": "markdown",
   "id": "18b35bd2",
   "metadata": {},
   "source": [
    "The `&` indicates “and”. This means that both conditions must hold for a\n",
    "row to be included in the new dataframe.\n",
    "\n",
    "Each condition is wrapped with parentheses to keep them clearly\n",
    "separated.\n",
    "\n",
    "Only rows present in **both** dataframes will be selected.\n",
    "\n",
    "<img src='../imgs/module2/condition_and.png'  alt=\"404 image\"/> \n",
    "\n",
    "\n",
    "Next, we will look at a case where we filter on two different columns.\n",
    "\n",
    "Let’s say we only want cereals from the Quaker manufacturer, with a\n",
    "protein content greater than 4.\n",
    "\n",
    "The same coding syntax can be applied to two different column\n",
    "conditions."
   ]
  },
  {
   "cell_type": "code",
   "execution_count": null,
   "id": "0ab7b8d4",
   "metadata": {},
   "outputs": [],
   "source": [
    "cereal[(cereal['mfr'] == 'Q') & (cereal['protein'] > 4)]"
   ]
  },
  {
   "cell_type": "markdown",
   "id": "eca05f66",
   "metadata": {},
   "source": [
    "## Multiple Condition Filtering - “or”\n",
    "\n",
    "Suppose that we are interested in cereals that either are made from the\n",
    "Quaker manufacturer **OR** a protein content above 4.\n",
    "\n",
    "For a row to be included in the output, we only require one or the other\n",
    "condition to hold.\n",
    "\n",
    "Instead of using the `&` symbol, we use `|` which is called the “pipe\n",
    "operator”. This means “or” in the Python programming language (and many\n",
    "other languages)."
   ]
  },
  {
   "cell_type": "code",
   "execution_count": null,
   "id": "29e0d512",
   "metadata": {},
   "outputs": [],
   "source": [
    "cereal[(cereal['mfr'] == 'Q') | (cereal['protein'] > 4)]"
   ]
  },
  {
   "cell_type": "markdown",
   "id": "027ee6d7",
   "metadata": {},
   "source": [
    "When we filter using “or” this time, it resulted in 10 cereals that met\n",
    "either of the conditions.\n",
    "\n",
    "When we filtered using “and”, only 1 cereal met both conditions.\n",
    "\n",
    "\n",
    "<img src='../imgs/module2/condition_or.png'  alt=\"404 image\"/> \n",
    "\n",
    "\n",
    "\n",
    "\n",
    "## Tilde\n",
    "\n",
    "We saw that when we filter the conditions are expressed with an\n",
    "underlying column with `True` or `False` values indicating if the\n",
    "condition has been met in each row of the dataframe.\n",
    "\n",
    "But what if I wanted the rows that were the complement (or opposite) of\n",
    "this?"
   ]
  },
  {
   "cell_type": "code",
   "execution_count": null,
   "id": "a3562e06",
   "metadata": {},
   "outputs": [],
   "source": [
    "cereal['protein'] > 4"
   ]
  },
  {
   "cell_type": "code",
   "execution_count": null,
   "id": "bba403bd",
   "metadata": {},
   "outputs": [],
   "source": [
    "(cereal['protein'] > 4).head()"
   ]
  },
  {
   "cell_type": "markdown",
   "id": "9a3f8ab5",
   "metadata": {},
   "source": [
    "The opposite of `cereal['protein'] > 4` is `cereal['protein'] <= 4`, so\n",
    "that one isn’t too tricky. But sometimes taking the opposite is not so\n",
    "straightforward. This is where the `~` (“tilde”) operator can be\n",
    "helpful.\n",
    "\n",
    "\n",
    "Tilde converts all the `True` values to `False` and all the `False`\n",
    "values, to `True.`"
   ]
  },
  {
   "cell_type": "code",
   "execution_count": null,
   "id": "80f04f78",
   "metadata": {},
   "outputs": [],
   "source": [
    "(~(cereal['protein'] > 4)).head()"
   ]
  },
  {
   "cell_type": "markdown",
   "id": "92414f5c",
   "metadata": {},
   "source": [
    "*Tilde* (`~`) gives us the ability to return the complement of the code\n",
    "following it.\n",
    "\n",
    "\n",
    "We can obtain the complete dataframe by putting the entire condition\n",
    "within our square brackets like we did before.\n",
    "\n",
    "What we have here, is taking the rows where the protein content is not\n",
    "greater than four."
   ]
  },
  {
   "cell_type": "code",
   "execution_count": null,
   "id": "c2042d84",
   "metadata": {},
   "outputs": [],
   "source": [
    "cereal[~(cereal['protein'] > 4)]"
   ]
  },
  {
   "cell_type": "markdown",
   "id": "5bdbe8b0",
   "metadata": {},
   "source": [
    "This gives us more versatility when filtering, especially when we want\n",
    "the inverse of more complicated conditions and verbs (you’ll see this in\n",
    "Module 3).\n",
    "\n",
    ":::{admonition} Let’s apply what we learned!\n",
    "\n",
    "1\\. If the output of     \n",
    "\n",
    "```python \n",
    "df['location'] == 'Canada'\n",
    "```\n",
    " is \n",
    " \n",
    " ```out\n",
    " [ True, False, False, True]\n",
    " ```\n",
    " \n",
    " What would be the output of \n",
    " \n",
    " ```python\n",
    "  ~(df['location'] == 'Canada')\n",
    "```\n",
    " \n",
    "a) `[True, False, False, True]`      \n",
    "b) `[False, False, False, False]`       \n",
    "c) `[True, True, True, True]`         \n",
    "d) `[False, True, True, False]`         \n",
    "\n",
    ":::\n",
    "\n",
    "\n",
    "```{admonition} Solutions!\n",
    ":class: tip, dropdown\n",
    "\n",
    "1. d) `[False, True, True, False]`    \n",
    "\n",
    "```"
   ]
  }
 ],
 "metadata": {
  "jupytext": {
   "formats": "md:myst"
  },
  "kernelspec": {
   "display_name": "Python 3 (ipykernel)",
   "language": "python",
   "name": "python3"
  }
 },
 "nbformat": 4,
 "nbformat_minor": 5
}
