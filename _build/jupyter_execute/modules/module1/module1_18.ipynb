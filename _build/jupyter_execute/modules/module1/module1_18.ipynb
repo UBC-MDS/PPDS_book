{
 "cells": [
  {
   "cell_type": "markdown",
   "id": "b7c44f2d",
   "metadata": {},
   "source": [
    "# Selecting a Single Column\n",
    "\n",
    ":::{admonition} Watch it\n",
    "See the accompanied youtube video at <a href=\"https://www.youtube.com/embed/W88f5DAl9hk?rel=0?start=913&end=1005\" target=\"_blank\">the link here.</a>\n",
    ":::\n",
    "\n",
    "Something we often do in data analysis is obtain a single column from\n",
    "a dataframe. We can again use `.loc[]` to do this which would look\n",
    "something like this in general:\n",
    "\n",
    "`dataframe.loc[:, ['column name']]`\n",
    "\n",
    "So if we here want the column named `type` from our cereal dataframe we\n",
    "could use the syntax:\n",
    "\n",
    "``` python\n",
    "cereal.loc[:, ['type']]\n",
    "```\n",
    "\n",
    "```out\n",
    "    type\n",
    "0   Cold\n",
    "1   Cold\n",
    "2   Cold\n",
    "3   Cold\n",
    "4   Cold\n",
    "..   ...\n",
    "72  Cold\n",
    "73  Cold\n",
    "74  Cold\n",
    "75  Cold\n",
    "76  Cold\n",
    "\n",
    "[77 rows x 1 columns]\n",
    "```\n",
    "\n",
    "This seems a bit long winded and since we do this type of thing often.\n",
    "Luckily, Pandas has provided a quicker syntax to use to do the same\n",
    "thing.\n",
    "\n",
    "\n",
    "<br>\n",
    "\n",
    "\n",
    "\n",
    "Instead, selecting a single column can be done without using `.loc[]`\n",
    "and we can just specify the dataframe name, followed by double square\n",
    "brackets containing the column of interest (`df[['column name']]`).\n",
    "\n",
    "``` python\n",
    "cereal[['type']]\n",
    "```\n",
    "\n",
    "```out\n",
    "    type\n",
    "0   Cold\n",
    "1   Cold\n",
    "2   Cold\n",
    "3   Cold\n",
    "4   Cold\n",
    "..   ...\n",
    "72  Cold\n",
    "73  Cold\n",
    "74  Cold\n",
    "75  Cold\n",
    "76  Cold\n",
    "\n",
    "[77 rows x 1 columns]\n",
    "```\n",
    "\n",
    "This makes the syntax for selecting the column `type` from the `cereal`\n",
    "dataframe very easy."
   ]
  }
 ],
 "metadata": {
  "jupytext": {
   "formats": "md:myst",
   "text_representation": {
    "extension": ".md",
    "format_name": "myst",
    "format_version": "0.8",
    "jupytext_version": "1.10.3"
   }
  },
  "kernelspec": {
   "display_name": "Python 3",
   "language": "python",
   "name": "python3"
  },
  "language_info": {
   "codemirror_mode": {
    "name": "ipython",
    "version": 3
   },
   "file_extension": ".py",
   "mimetype": "text/x-python",
   "name": "python",
   "nbconvert_exporter": "python",
   "pygments_lexer": "ipython3",
   "version": "3.9.6"
  },
  "source_map": [
   13
  ]
 },
 "nbformat": 4,
 "nbformat_minor": 5
}