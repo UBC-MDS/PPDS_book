{
 "cells": [
  {
   "cell_type": "markdown",
   "id": "f03a79e4",
   "metadata": {},
   "source": [
    "# Sorting dataframes\n",
    "\n",
    ":::{admonition} Watch it\n",
    "See the accompanied youtube video at <a href=\"https://www.youtube.com/embed/W88f5DAl9hk?rel=0?start=1461&end=1513\" target=\"_blank\">the link here.</a>\n",
    ":::\n",
    "\n",
    "When we read in our data, it is generally ordered in the same way it is\n",
    "stored.\n",
    "\n",
    "We can easily sort the rows of a dataframe based on the values within a\n",
    "column.\n",
    "\n",
    "The verb that we use for that is `.sort_values()`.\n",
    "\n",
    "``` python\n",
    "cereal.sort_values(by='rating')\n",
    "```\n",
    "\n",
    "```out\n",
    "                         name mfr  calories  shelf  weight  cups     rating\n",
    "10               Cap'n'Crunch   Q       120      2    1.00  0.75  18.042851\n",
    "12      Cinnamon Toast Crunch   G       120      2    1.00  0.75  19.823573\n",
    "35           Honey Graham Ohs   Q       120      2    1.00  1.00  21.871292\n",
    "18              Count Chocula   G       110      2    1.00  1.00  22.396513\n",
    "14                Cocoa Puffs   G       110      2    1.00  1.00  22.736446\n",
    "..                        ...  ..       ...    ...     ...   ...        ...\n",
    "63             Shredded Wheat   N        80      1    0.83  1.00  68.235885\n",
    "0                   100% Bran   N        70      3    1.00  0.33  68.402973\n",
    "65  Shredded Wheat spoon size   N        90      1    1.00  0.67  72.801787\n",
    "64     Shredded Wheat 'n'Bran   N        90      1    1.00  0.67  74.472949\n",
    "3   All-Bran with Extra Fiber   K        50      3    1.00  0.50  93.704912\n",
    "\n",
    "[77 rows x 7 columns]\n",
    "```\n",
    "\n",
    "For example, if we wanted to order the cereals based on rating, we could\n",
    "do so by using the argument `by` within the `.sort_values()` verb.\n",
    "\n",
    "This allows us to see the cereals with lower ratings on the top.\n",
    "\n",
    "What if we wanted the cereals with higher ratings at the top?\n",
    "\n",
    "Then we would order them in `descending` order by setting the argument\n",
    "`ascending=False`.\n",
    "\n",
    "``` python\n",
    "sorted_ratings = cereal.sort_values(by='rating', ascending=False)\n",
    "sorted_ratings\n",
    "```\n",
    "\n",
    "```out\n",
    "                         name mfr  calories  shelf  weight  cups     rating\n",
    "3   All-Bran with Extra Fiber   K        50      3    1.00  0.50  93.704912\n",
    "64     Shredded Wheat 'n'Bran   N        90      1    1.00  0.67  74.472949\n",
    "65  Shredded Wheat spoon size   N        90      1    1.00  0.67  72.801787\n",
    "0                   100% Bran   N        70      3    1.00  0.33  68.402973\n",
    "63             Shredded Wheat   N        80      1    0.83  1.00  68.235885\n",
    "..                        ...  ..       ...    ...     ...   ...        ...\n",
    "14                Cocoa Puffs   G       110      2    1.00  1.00  22.736446\n",
    "18              Count Chocula   G       110      2    1.00  1.00  22.396513\n",
    "35           Honey Graham Ohs   Q       120      2    1.00  1.00  21.871292\n",
    "12      Cinnamon Toast Crunch   G       120      2    1.00  0.75  19.823573\n",
    "10               Cap'n'Crunch   Q       120      2    1.00  0.75  18.042851\n",
    "\n",
    "[77 rows x 7 columns]\n",
    "```\n",
    "\n",
    "Perfect, now we have the highest rated cereals at the top of the\n",
    "dataframe."
   ]
  }
 ],
 "metadata": {
  "jupytext": {
   "formats": "md:myst",
   "text_representation": {
    "extension": ".md",
    "format_name": "myst",
    "format_version": "0.8",
    "jupytext_version": "1.10.3"
   }
  },
  "kernelspec": {
   "display_name": "Python 3",
   "language": "python",
   "name": "python3"
  },
  "language_info": {
   "codemirror_mode": {
    "name": "ipython",
    "version": 3
   },
   "file_extension": ".py",
   "mimetype": "text/x-python",
   "name": "python",
   "nbconvert_exporter": "python",
   "pygments_lexer": "ipython3",
   "version": "3.9.6"
  },
  "source_map": [
   13
  ]
 },
 "nbformat": 4,
 "nbformat_minor": 5
}