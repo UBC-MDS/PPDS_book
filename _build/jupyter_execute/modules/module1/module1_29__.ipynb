{
 "cells": [
  {
   "cell_type": "markdown",
   "id": "2917de78",
   "metadata": {},
   "source": [
    "# Frequency Tables and Writing CSVs\n",
    "\n",
    ":::{admonition} Watch it\n",
    "See the accompanied youtube video at <a href=\"https://www.youtube.com/embed/W88f5DAl9hk?rel=0?start=1775&end=1940\" target=\"_blank\">the link here.</a>\n",
    ":::\n",
    "\n",
    "## What is Frequency?\n",
    "\n",
    "Before we explain what a frequency table is, you must know what\n",
    "frequency means first.\n",
    "\n",
    "*_Frequency_* is simply put, the number of times a value occurs within\n",
    "the data. Let’s look at an example using our candybars dataset."
   ]
  },
  {
   "cell_type": "code",
   "execution_count": 1,
   "id": "9c49d93f",
   "metadata": {
    "tags": [
     "remove-cell"
    ]
   },
   "outputs": [],
   "source": [
    "import pandas as pd\n",
    "import numpy as np\n",
    "\n",
    "pd.set_option('display.width', 400)\n",
    "np.set_printoptions(linewidth=400)\n",
    "pd.set_option('display.max_columns', 15)\n",
    "\n",
    "cereal = pd.read_csv('cereal.csv')\n",
    "cereal2 = pd.read_csv('candybars.csv')\n",
    "candybars_mini = cereal2.head(7).loc[:, ['name', 'weight', 'available_canada_america' ]]"
   ]
  },
  {
   "cell_type": "code",
   "execution_count": 2,
   "id": "d385a674",
   "metadata": {},
   "outputs": [
    {
     "data": {
      "text/html": [
       "<div>\n",
       "<style scoped>\n",
       "    .dataframe tbody tr th:only-of-type {\n",
       "        vertical-align: middle;\n",
       "    }\n",
       "\n",
       "    .dataframe tbody tr th {\n",
       "        vertical-align: top;\n",
       "    }\n",
       "\n",
       "    .dataframe thead th {\n",
       "        text-align: right;\n",
       "    }\n",
       "</style>\n",
       "<table border=\"1\" class=\"dataframe\">\n",
       "  <thead>\n",
       "    <tr style=\"text-align: right;\">\n",
       "      <th></th>\n",
       "      <th>name</th>\n",
       "      <th>weight</th>\n",
       "      <th>available_canada_america</th>\n",
       "    </tr>\n",
       "  </thead>\n",
       "  <tbody>\n",
       "    <tr>\n",
       "      <th>0</th>\n",
       "      <td>Coffee Crisp</td>\n",
       "      <td>50</td>\n",
       "      <td>Canada</td>\n",
       "    </tr>\n",
       "    <tr>\n",
       "      <th>1</th>\n",
       "      <td>Butterfinger</td>\n",
       "      <td>184</td>\n",
       "      <td>America</td>\n",
       "    </tr>\n",
       "    <tr>\n",
       "      <th>2</th>\n",
       "      <td>Skor</td>\n",
       "      <td>39</td>\n",
       "      <td>Both</td>\n",
       "    </tr>\n",
       "    <tr>\n",
       "      <th>3</th>\n",
       "      <td>Smarties</td>\n",
       "      <td>45</td>\n",
       "      <td>Canada</td>\n",
       "    </tr>\n",
       "    <tr>\n",
       "      <th>4</th>\n",
       "      <td>Twix</td>\n",
       "      <td>58</td>\n",
       "      <td>Both</td>\n",
       "    </tr>\n",
       "    <tr>\n",
       "      <th>5</th>\n",
       "      <td>Reeses Peanutbutter Cups</td>\n",
       "      <td>43</td>\n",
       "      <td>Both</td>\n",
       "    </tr>\n",
       "    <tr>\n",
       "      <th>6</th>\n",
       "      <td>3 Musketeers</td>\n",
       "      <td>54</td>\n",
       "      <td>America</td>\n",
       "    </tr>\n",
       "  </tbody>\n",
       "</table>\n",
       "</div>"
      ],
      "text/plain": [
       "                        name  weight available_canada_america\n",
       "0               Coffee Crisp      50                   Canada\n",
       "1               Butterfinger     184                  America\n",
       "2                       Skor      39                     Both\n",
       "3                   Smarties      45                   Canada\n",
       "4                       Twix      58                     Both\n",
       "5  Reeses Peanutbutter Cups       43                     Both\n",
       "6               3 Musketeers      54                  America"
      ]
     },
     "execution_count": 2,
     "metadata": {},
     "output_type": "execute_result"
    }
   ],
   "source": [
    "candybars_mini"
   ]
  },
  {
   "cell_type": "markdown",
   "id": "f1fc2306",
   "metadata": {},
   "source": [
    "If we count the number of times the value `Both` appears in the\n",
    "`available_canada_america` column, we get 3 times. This is the frequency\n",
    "of the value `both`.\n",
    "\n",
    "## What is a Frequency Table?\n",
    "\n",
    "A frequency table is a manner of displaying all the possible values of a\n",
    "column in our dataframe and the number of occurrences (frequencies) of\n",
    "each value.\n",
    "\n",
    "For our sample data, a frequency table for the\n",
    "`available_canada_america` column would look like this:"
   ]
  },
  {
   "cell_type": "code",
   "execution_count": 3,
   "id": "871a3b15",
   "metadata": {
    "tags": [
     "remove-input"
    ]
   },
   "outputs": [
    {
     "data": {
      "text/plain": [
       "Both       3\n",
       "Canada     2\n",
       "America    2\n",
       "Name: available_canada_america, dtype: int64"
      ]
     },
     "execution_count": 3,
     "metadata": {},
     "output_type": "execute_result"
    }
   ],
   "source": [
    "candybars_mini['available_canada_america'].value_counts()"
   ]
  },
  {
   "cell_type": "markdown",
   "id": "e4591d8b",
   "metadata": {},
   "source": [
    "If we want to get a frequency table of a categorical column, there are a\n",
    "few steps that need to be followed.\n",
    "\n",
    "Up until now, we discussed getting a single column from a dataframe\n",
    "using double square brackets - `df[['column name']]`.\n",
    "\n",
    "For frequency tables, however, we only use single brackets to obtain the\n",
    "column values."
   ]
  },
  {
   "cell_type": "code",
   "execution_count": 4,
   "id": "166ee802",
   "metadata": {},
   "outputs": [
    {
     "data": {
      "text/plain": [
       "0     N\n",
       "1     Q\n",
       "2     K\n",
       "3     K\n",
       "4     R\n",
       "     ..\n",
       "72    G\n",
       "73    G\n",
       "74    R\n",
       "75    G\n",
       "76    G\n",
       "Name: mfr, Length: 77, dtype: object"
      ]
     },
     "execution_count": 4,
     "metadata": {},
     "output_type": "execute_result"
    }
   ],
   "source": [
    "mfr_column = cereal['mfr']\n",
    "mfr_column"
   ]
  },
  {
   "cell_type": "markdown",
   "id": "66b8020e",
   "metadata": {},
   "source": [
    "We saved the object in this example here to an object named `mfr_column`\n",
    "in the same way that we have done this before.\n",
    "\n",
    "Now we can use `.value_counts()` on this `mfr_column` variable to\n",
    "reference it, and we can obtain the frequency value for the different\n",
    "categories in that variable."
   ]
  },
  {
   "cell_type": "code",
   "execution_count": 5,
   "id": "4cf47b23",
   "metadata": {},
   "outputs": [
    {
     "data": {
      "text/plain": [
       "K    23\n",
       "G    22\n",
       "P     9\n",
       "Q     8\n",
       "R     8\n",
       "N     6\n",
       "A     1\n",
       "Name: mfr, dtype: int64"
      ]
     },
     "execution_count": 5,
     "metadata": {},
     "output_type": "execute_result"
    }
   ],
   "source": [
    "mfr_freq = mfr_column.value_counts()\n",
    "mfr_freq"
   ]
  },
  {
   "cell_type": "markdown",
   "id": "9824b1ed",
   "metadata": {},
   "source": [
    "If we did instead use double square brackets with `pd.value_counts()`,\n",
    "we would get an error. So it is important to take care and remember when\n",
    "you are using `value_counts()`, you only use one set of square brackets."
   ]
  },
  {
   "cell_type": "code",
   "execution_count": 6,
   "id": "afa37094",
   "metadata": {},
   "outputs": [
    {
     "data": {
      "text/html": [
       "<div>\n",
       "<style scoped>\n",
       "    .dataframe tbody tr th:only-of-type {\n",
       "        vertical-align: middle;\n",
       "    }\n",
       "\n",
       "    .dataframe tbody tr th {\n",
       "        vertical-align: top;\n",
       "    }\n",
       "\n",
       "    .dataframe thead th {\n",
       "        text-align: right;\n",
       "    }\n",
       "</style>\n",
       "<table border=\"1\" class=\"dataframe\">\n",
       "  <thead>\n",
       "    <tr style=\"text-align: right;\">\n",
       "      <th></th>\n",
       "      <th>mfr</th>\n",
       "    </tr>\n",
       "  </thead>\n",
       "  <tbody>\n",
       "    <tr>\n",
       "      <th>0</th>\n",
       "      <td>N</td>\n",
       "    </tr>\n",
       "    <tr>\n",
       "      <th>1</th>\n",
       "      <td>Q</td>\n",
       "    </tr>\n",
       "    <tr>\n",
       "      <th>2</th>\n",
       "      <td>K</td>\n",
       "    </tr>\n",
       "    <tr>\n",
       "      <th>3</th>\n",
       "      <td>K</td>\n",
       "    </tr>\n",
       "    <tr>\n",
       "      <th>4</th>\n",
       "      <td>R</td>\n",
       "    </tr>\n",
       "    <tr>\n",
       "      <th>...</th>\n",
       "      <td>...</td>\n",
       "    </tr>\n",
       "    <tr>\n",
       "      <th>72</th>\n",
       "      <td>G</td>\n",
       "    </tr>\n",
       "    <tr>\n",
       "      <th>73</th>\n",
       "      <td>G</td>\n",
       "    </tr>\n",
       "    <tr>\n",
       "      <th>74</th>\n",
       "      <td>R</td>\n",
       "    </tr>\n",
       "    <tr>\n",
       "      <th>75</th>\n",
       "      <td>G</td>\n",
       "    </tr>\n",
       "    <tr>\n",
       "      <th>76</th>\n",
       "      <td>G</td>\n",
       "    </tr>\n",
       "  </tbody>\n",
       "</table>\n",
       "<p>77 rows × 1 columns</p>\n",
       "</div>"
      ],
      "text/plain": [
       "   mfr\n",
       "0    N\n",
       "1    Q\n",
       "2    K\n",
       "3    K\n",
       "4    R\n",
       "..  ..\n",
       "72   G\n",
       "73   G\n",
       "74   R\n",
       "75   G\n",
       "76   G\n",
       "\n",
       "[77 rows x 1 columns]"
      ]
     },
     "execution_count": 6,
     "metadata": {},
     "output_type": "execute_result"
    }
   ],
   "source": [
    "mfr_col_wrong = cereal[['mfr']]\n",
    "mfr_col_wrong"
   ]
  },
  {
   "cell_type": "code",
   "execution_count": 7,
   "id": "0728d23b",
   "metadata": {
    "tags": [
     "raises-exception"
    ]
   },
   "outputs": [
    {
     "data": {
      "text/plain": [
       "mfr\n",
       "K      23\n",
       "G      22\n",
       "P       9\n",
       "Q       8\n",
       "R       8\n",
       "N       6\n",
       "A       1\n",
       "dtype: int64"
      ]
     },
     "execution_count": 7,
     "metadata": {},
     "output_type": "execute_result"
    }
   ],
   "source": [
    "mfr_col_wrong.value_counts()"
   ]
  },
  {
   "cell_type": "markdown",
   "id": "82bc7e5b",
   "metadata": {},
   "source": [
    "## Saving a dataframe\n",
    "\n",
    "Sometimes it is useful to save a new dataframe to a file like a csv file\n",
    "for future use by you or somebody else.\n",
    "\n",
    "We can do this using a method called `.to_csv()`."
   ]
  },
  {
   "cell_type": "code",
   "execution_count": 8,
   "id": "802cbcae",
   "metadata": {},
   "outputs": [],
   "source": [
    "mfr_freq.to_csv('mfr_frequency.csv', index=False)"
   ]
  },
  {
   "cell_type": "markdown",
   "id": "4027967a",
   "metadata": {},
   "source": [
    "We put our desired `csv` file name in quotations within the parentheses\n",
    "and follow it with the argument `index=False` so we don’t export our\n",
    "index column which is just a column of numbers."
   ]
  }
 ],
 "metadata": {
  "jupytext": {
   "formats": "md:myst",
   "text_representation": {
    "extension": ".md",
    "format_name": "myst",
    "format_version": "0.8",
    "jupytext_version": "1.10.3"
   }
  },
  "kernelspec": {
   "display_name": "Python 3",
   "language": "python",
   "name": "python3"
  },
  "language_info": {
   "codemirror_mode": {
    "name": "ipython",
    "version": 3
   },
   "file_extension": ".py",
   "mimetype": "text/x-python",
   "name": "python",
   "nbconvert_exporter": "python",
   "pygments_lexer": "ipython3",
   "version": "3.9.6"
  },
  "source_map": [
   13,
   29,
   43,
   45,
   61,
   64,
   77,
   80,
   89,
   92,
   98,
   103,
   106,
   116,
   118
  ]
 },
 "nbformat": 4,
 "nbformat_minor": 5
}