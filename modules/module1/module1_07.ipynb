{
 "cells": [
  {
   "cell_type": "markdown",
   "id": "299a8686",
   "metadata": {},
   "source": [
    "# Slicing Rows using .loc\\[\\]\n",
    "\n",
    ":::{admonition} Watch it\n",
    "See the accompanied youtube video at <a href=\"https://www.youtube.com/embed/W88f5DAl9hk?start=378&end=647\" target=\"_blank\">the link here.</a>\n",
    ":::\n",
    "\n",
    "Congratulations on writing your first code\\!\n",
    "\n",
    "We have read in our data, and we know the dimensions. Well, now what?\n",
    "\n",
    "Let’s go over how we would **index**, **slice**, and **select** certain\n",
    "columns or rows of our data.\n",
    "\n",
    "Let’s start by importing pandas and loading in a dataset named\n",
    "`cereal.csv,` and we will save it as `cereal.`"
   ]
  },
  {
   "cell_type": "code",
   "execution_count": null,
   "id": "79de63a3",
   "metadata": {},
   "outputs": [],
   "source": [
    "import pandas as pd\n",
    "  \n",
    "cereal = pd.read_csv('cereal.csv')\n",
    "cereal.head()"
   ]
  },
  {
   "cell_type": "markdown",
   "id": "5dec7ccf",
   "metadata": {},
   "source": [
    "Attribution:  \n",
    "*“[80 Cereals](https://www.kaggle.com/crawford/80-cereals/)” (c) by\n",
    "[Chris Crawford](https://www.linkedin.com/in/crawforc3/) is licensed\n",
    "under [Creative Commons Attribution-ShareAlike 3.0\n",
    "Unported](http://creativecommons.org/licenses/by-sa/3.0/).*\n",
    "\n",
    "We can see all the columns and the first 5 rows of the dataframe using\n",
    "`.head()`\n",
    "\n",
    "However, let’s say we only want certain rows of the dataframe or\n",
    "certain columns.\n",
    "\n",
    "We talked about how `.head()` will generate the first few rows of a\n",
    "dataframe (5 as default), but what if we wanted the rows from 5-10?\n",
    "\n",
    "The first column of this dataframe is called the `index.`\n",
    "\n",
    "Each row has a label (the index) as well as a position. In this case,\n",
    "the index label of an observation is the same as it’s position.\n",
    "\n",
    "This doesn’t always have to be the case. We can assign another column as\n",
    "the index; however, we will wait to discuss this in the next module.\n",
    "\n",
    "Here are the first 15 rows of the dataframe."
   ]
  },
  {
   "cell_type": "code",
   "execution_count": null,
   "id": "2da746b9",
   "metadata": {},
   "outputs": [],
   "source": [
    "cereal.head(15)"
   ]
  },
  {
   "cell_type": "markdown",
   "id": "babd80be",
   "metadata": {},
   "source": [
    "Let’s talk about observation 4 which is named `Almond Delight`. Its\n",
    "index label is `4` as well as it’s index position.\n",
    "\n",
    "If you just went and counted those again and started screaming “5\\! It’s\n",
    "the fifth position”, that’s OK. In the Python language, we start\n",
    "counting at position 0 (then 1, 2, 3, and 4 for Almond Delight).\n",
    "\n",
    "Now let’s say we want all 5 rows past `Almond Delight`. That means we\n",
    "want the rows from `Apple Cinnamon Cheerios` to `Cap'n'Crunch`.\n",
    "\n",
    "We will use `.loc[]` with square brackets to cut the dataframe from\n",
    "“Apple Cinnamon Cheerios” to “Cap’n’Crunch,” keeping the columns and\n",
    "everything between.\n",
    "\n",
    "This code is written as `cereal.loc[5:10]`, and it can be interpreted as\n",
    "*“Obtain the rows in the dataframe located from `5` to `10`.”*"
   ]
  },
  {
   "cell_type": "code",
   "execution_count": null,
   "id": "3e79bf27",
   "metadata": {},
   "outputs": [],
   "source": [
    "cereal.loc[5:10]"
   ]
  },
  {
   "cell_type": "markdown",
   "id": "ba0c4768",
   "metadata": {},
   "source": [
    "What if we only wanted certain columns now?\n",
    "\n",
    "Perhaps we were only interested in the `calories` to `fiber` columns of\n",
    "the “Apple Cinnamon Cheerios” to “Cap’n’Crunch” rows?\n",
    "\n",
    "We put in the interval of our desired rows first, and then the columns,\n",
    "and we separate these values with a comma.\n",
    "\n",
    "`.loc[]` is used to slice columns and rows by **label**, and within an\n",
    "interval."
   ]
  },
  {
   "cell_type": "code",
   "execution_count": null,
   "id": "40c51362",
   "metadata": {},
   "outputs": [],
   "source": [
    "cereal.loc[5:10, 'calories':'fiber']"
   ]
  },
  {
   "cell_type": "markdown",
   "id": "530bffaf",
   "metadata": {},
   "source": [
    "The general format to slice both rows and columns together looks like\n",
    "this:\n",
    "\n",
    "``` python\n",
    "cereal.loc['row name start':'row name end', 'column name start':'column name end']\n",
    "```\n",
    "\n",
    "There is a handy shortcut for slices that include the beginning of a\n",
    "dataframe to a specified row or column label or a specified row or\n",
    "column label to the end of a dataframe.\n",
    "\n",
    "For example if we want all the rows up to “Apple Jacks” which has a\n",
    "label equal to 6, we could omit the first label in the code all\n",
    "together. So we can write `cereal.loc[:6]`."
   ]
  },
  {
   "cell_type": "code",
   "execution_count": null,
   "id": "72fcf79c",
   "metadata": {},
   "outputs": [],
   "source": [
    "cereal.loc[:6]"
   ]
  },
  {
   "cell_type": "markdown",
   "id": "008cf07d",
   "metadata": {},
   "source": [
    "Or we can do something similar for the end of a dataframe. Let’s say now\n",
    "we want all the rows up to `Apple Jacks` and only the columns from\n",
    "`sugars` onward to the end of the dataframe. What we would write in this\n",
    "case is `cereal.loc[:6, 'sugars':]`.\n",
    "\n",
    "We would omit the ending label this time after the `:` (colon) ."
   ]
  },
  {
   "cell_type": "code",
   "execution_count": null,
   "id": "00565a16",
   "metadata": {},
   "outputs": [],
   "source": [
    "cereal.loc[:6, 'sugars':]"
   ]
  },
  {
   "cell_type": "markdown",
   "id": "1f0b0c24",
   "metadata": {},
   "source": [
    ":::{admonition} Let’s apply what we learned!\n",
    "\n",
    "My dataframe object name is `fruit_salad`.\n",
    "\n",
    "```out\n",
    "           name    colour    location    seed   shape  sweetness   water-content  weight\n",
    "0         apple       red     canada    True   round     True          84         100\n",
    "1        banana    yellow     mexico   False    long     True          75         120\n",
    "2    cantaloupe    orange      spain    True   round     True          90        1360\n",
    "3  dragon-fruit   magenta      china    True   round    False          96         600\n",
    "4    elderberry    purple    austria   False   round     True          80           5\n",
    "5           fig    purple     turkey   False    oval    False          78          40\n",
    "6         guava     green     mexico    True    oval     True          83         450\n",
    "7   huckleberry      blue     canada    True   round     True          73           5\n",
    "8          kiwi     brown      china    True   round     True          80          76\n",
    "9         lemon    yellow     mexico   False    oval    False          83          65\n",
    "```\n",
    "\n",
    "1\\. If you wanted only the rows from `cantaloupe` to `kiwi`, what would your code look like using index labels?       \n",
    "a) `fruit_salad.loc[2, 8]`         \n",
    "b) `fruit_salad[2, 8]`            \n",
    "c) `fruit_salad[2:8]`               \n",
    "d) `fruit_salad.loc[2:8]`                  \n",
    " \n",
    "\n",
    "2\\. If you wanted all the rows between `cantaloupe` and `fig` and only columns `name` to `seed`, what would your code look like using index labels?      \n",
    "a) `fruit_salad.loc[2:5, \"colour\":\"seed\"]`           \n",
    "b) `fruit_salad.loc[2:5, \"name\":\"seed\"]`                            \n",
    "c) `fruit_salad.loc[\"name\":\"seed\", 2:5]`                   \n",
    "d) `fruit_salad[2:8, \"name\":\"seed\"]`                    \n",
    "\n",
    ":::\n",
    "\n",
    "```{admonition} Solutions!\n",
    ":class: tip, dropdown\n",
    "\n",
    "1. d) `fruit_salad.loc[2:8]`          \n",
    "2. b) `fruit_salad.loc[2:5, \"name\":\"seed\"]`           \n",
    "\n",
    "```"
   ]
  }
 ],
 "metadata": {
  "jupytext": {
   "formats": "md:myst"
  },
  "kernelspec": {
   "display_name": "Python 3 (ipykernel)",
   "language": "python",
   "name": "python3"
  }
 },
 "nbformat": 4,
 "nbformat_minor": 5
}
