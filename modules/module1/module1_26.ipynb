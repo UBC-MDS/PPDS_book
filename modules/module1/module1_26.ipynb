{
 "cells": [
  {
   "cell_type": "markdown",
   "id": "b3170b3b",
   "metadata": {},
   "source": [
    "# Summary Statistics\n",
    "\n",
    ":::{admonition} Watch it\n",
    "See the accompanied youtube video at <a href=\"https://www.youtube.com/embed/W88f5DAl9hk?start=1518&end=1770\" target=\"_blank\">the link here.</a>\n",
    ":::\n",
    "\n",
    "Now we’ve learned about how to get the data in to the shape and size\n",
    "that we desire, now we ca have some fun with it\\!\n",
    "\n",
    "We usually like to learn from it. One place we can start is summary\n",
    "statistics, so we can calculate interesting values for each of the\n",
    "variables or columns in our dataframe.\n",
    "\n",
    "Let’s start by doing this for the cereal dataset again."
   ]
  },
  {
   "cell_type": "code",
   "execution_count": null,
   "id": "5ab794d4",
   "metadata": {
    "tags": [
     "remove-cell"
    ]
   },
   "outputs": [],
   "source": [
    "import pandas as pd\n",
    "import numpy as np\n",
    "\n",
    "pd.set_option('display.width', 400)\n",
    "np.set_printoptions(linewidth=400)\n",
    "pd.set_option('display.max_columns', 15)"
   ]
  },
  {
   "cell_type": "code",
   "execution_count": null,
   "id": "16efb368",
   "metadata": {},
   "outputs": [],
   "source": [
    "cereal = pd.read_csv('cereal.csv')\n",
    "cereal.head(15)"
   ]
  },
  {
   "cell_type": "markdown",
   "id": "40ff26df",
   "metadata": {},
   "source": [
    "## Numerical and Categorical Columns\n",
    "\n",
    "Before we go further, let’s quickly discuss the 2 different types of\n",
    "data.\n",
    "\n",
    "### Categorical data\n",
    "\n",
    "Categorical data consists of qualitative observations such as\n",
    "characteristics - things generally containing names or words.\n",
    "\n",
    "**Examples**\n",
    "\n",
    "  - Colours\n",
    "  - Names\n",
    "\n",
    "\n",
    "### Numerical data\n",
    "\n",
    "These data are usually expressed with numbers.\n",
    "\n",
    "**Examples**\n",
    "\n",
    "  - Measurements\n",
    "  - Quantities\n",
    "\n",
    "\n",
    "\n",
    "Our columns in our dataframe are considered one of the two of these.\n",
    "\n",
    "## Pandas `.describe()`\n",
    "\n",
    "Pandas has a lot up its sleeve but one of the most useful methods is\n",
    "called `.describe()` and it does exactly that. it *describes* our data.\n",
    "\n",
    "Let’s try it out on our cereal dataset.\n",
    "\n",
    "By default `df.describe()` only shows numerical columns."
   ]
  },
  {
   "cell_type": "code",
   "execution_count": null,
   "id": "746471b1",
   "metadata": {},
   "outputs": [],
   "source": [
    "cereal.describe()"
   ]
  },
  {
   "cell_type": "markdown",
   "id": "6d1c7a7c",
   "metadata": {},
   "source": [
    "Let’s talk a little bit about the output of `.describe()`.\n",
    "\n",
    "On the left-hand side we see a new column. This column contains the\n",
    "names of the different summary statistics that `.describes()` gives us\n",
    "back for our dataset. Let’s talk about them each individually:\n",
    "\n",
    "- `count`: The number of non-NA/null observations.\n",
    "- `mean`: The mean of column\n",
    "- `std` : The standard deviation of a column\n",
    "- `min`: The min value for a column\n",
    "- `max`: The max value for a column\n",
    "- By default the 25, 50 and 75 percentile of the observations\n",
    "\n",
    "\n",
    "\n",
    "We can make changes to either limit how much is shown or include more\n",
    "using describe. One useful argument is `include` and a value we can give\n",
    "to that is `all`."
   ]
  },
  {
   "cell_type": "code",
   "execution_count": null,
   "id": "ef47ad00",
   "metadata": {},
   "outputs": [],
   "source": [
    "cereal.describe(include='all')"
   ]
  },
  {
   "cell_type": "markdown",
   "id": "df18c0f1",
   "metadata": {},
   "source": [
    "This expands the output so we get summary statistics for both\n",
    "categorical and numerical columns now.\n",
    "\n",
    "Adding `include='all'` within the brackets adds some additional\n",
    "statistics about categorical columns including:\n",
    "\n",
    "- `unique`: which indicates the number of unique observations\n",
    "- `top`: which tells up the observation value that is most occurring\n",
    "- `freq`: which informs us of the frequency of the most occurring\n",
    "  observation\n",
    "\n",
    "\n",
    "We can also get single statistics of each column using functions like:\n",
    "`.mean()`,`.std()`, `.count()`, `.median()`, `.sum()`.\n",
    "\n",
    "To do this, we first have to grab the column that we are interested in\n",
    "exploring, and then we add the verb.\n",
    "\n",
    "Here are some examples of things that we can calculate. First we\n",
    "calculate the mean of the ratings, then we calculate sum of the ratings,\n",
    "and finally the median of the ratings."
   ]
  },
  {
   "cell_type": "code",
   "execution_count": null,
   "id": "383c5e54",
   "metadata": {},
   "outputs": [],
   "source": [
    "ratings = cereal[['rating']]\n",
    "ratings.mean()"
   ]
  },
  {
   "cell_type": "code",
   "execution_count": null,
   "id": "03d70cef",
   "metadata": {},
   "outputs": [],
   "source": [
    "ratings.sum()"
   ]
  },
  {
   "cell_type": "code",
   "execution_count": null,
   "id": "94afeea6",
   "metadata": {},
   "outputs": [],
   "source": [
    "ratings.median()"
   ]
  },
  {
   "cell_type": "markdown",
   "id": "d5ea947e",
   "metadata": {},
   "source": [
    "We can also use these summary statistic verbs on the entire dataframe.\n",
    "This now shows the mean value of each column in the dataframe.\n",
    "\n",
    "You’ll notice that only the numerical variables are calculated which\n",
    "makes sense since we would not be able to calculate the mean of\n",
    "categorical data."
   ]
  },
  {
   "cell_type": "code",
   "execution_count": null,
   "id": "6c2e96b7",
   "metadata": {
    "tags": [
     "remove-output"
    ]
   },
   "outputs": [],
   "source": [
    "cereal.mean()"
   ]
  },
  {
   "cell_type": "markdown",
   "id": "0dda1edf",
   "metadata": {},
   "source": [
    "```out\n",
    "calories    106.883117\n",
    "protein       2.545455\n",
    "fat           1.012987\n",
    "sodium      159.675325\n",
    "fiber         2.151948\n",
    "carbo        14.623377\n",
    "sugars        6.948052\n",
    "potass       96.129870\n",
    "vitamins     28.246753\n",
    "shelf         2.207792\n",
    "weight        1.029610\n",
    "cups          0.821039\n",
    "rating       42.665705\n",
    "dtype: float64\n",
    "```\n",
    "\n",
    ":::{admonition} Let’s apply what we learned!\n",
    "\n",
    "Bringing back our Fruit Salad dataframe:\n",
    "\n",
    "```out\n",
    "           name    colour    location    seed   shape  sweetness   water-content  weight\n",
    "0         apple       red     canada    True   round     True          84         100\n",
    "1        banana    yellow     mexico   False    long     True          75         120\n",
    "2    cantaloupe    orange      spain    True   round     True          90        1360\n",
    "3  dragon-fruit   magenta      china    True   round    False          96         600\n",
    "4    elderberry    purple    austria   False   round     True          80           5\n",
    "5           fig    purple     turkey   False    oval    False          78          40\n",
    "6         guava     green     mexico    True    oval     True          83         450\n",
    "7   huckleberry      blue     canada    True   round     True          73           5\n",
    "8          kiwi     brown      china    True   round     True          80          76\n",
    "9         lemon    yellow     mexico   False    oval    False          83          65\n",
    "```\n",
    " \n",
    "1\\. Which of the following columns contain numerical data?                             \n",
    "a) `colour`, `shape`, `water-content`          \n",
    "b) `water-content`, `weight`           \n",
    "c) `colour`, `seed`, `water-content`, `weight`           \n",
    "d) All of the columns are categorical            \n",
    "\n",
    "2\\. We need summary statistics of both numerical and categorical columns of the dataframe `fruit_salad`. What code would be suitable for this?        \n",
    "a) `df.describe()`        \n",
    "b) `fruit_salad.describe()`        \n",
    "c) `fruit_salad.describe(include=\"all\")`        \n",
    "d) `fruit_salad.summary(include=\"all\")`    \n",
    "\n",
    ":::\n",
    "\n",
    "```{admonition} Solutions!\n",
    ":class: tip, dropdown\n",
    "\n",
    "1. b) `water-content`, `weight`   \n",
    "2. c) `fruit_salad.describe(include=\"all\")` \n",
    "\n",
    "```"
   ]
  }
 ],
 "metadata": {
  "jupytext": {
   "formats": "md:myst"
  },
  "kernelspec": {
   "display_name": "Python 3 (ipykernel)",
   "language": "python",
   "name": "python3"
  }
 },
 "nbformat": 4,
 "nbformat_minor": 5
}
