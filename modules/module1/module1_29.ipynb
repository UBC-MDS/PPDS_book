{
 "cells": [
  {
   "cell_type": "markdown",
   "id": "c0e8bfaf",
   "metadata": {},
   "source": [
    "# Frequency Tables and Writing CSVs\n",
    "\n",
    ":::{admonition} Watch it\n",
    "See the accompanied youtube video at <a href=\"https://www.youtube.com/embed/W88f5DAl9hk?start=1775&end=1940\" target=\"_blank\">the link here.</a>\n",
    ":::\n",
    "\n",
    "## What is Frequency?\n",
    "\n",
    "Before we explain what a frequency table is, you must know what\n",
    "frequency means first.\n",
    "\n",
    "*_Frequency_* is simply put, the number of times a value occurs within\n",
    "the data. Let’s look at an example using our candybars dataset."
   ]
  },
  {
   "cell_type": "code",
   "execution_count": null,
   "id": "df8cf53d",
   "metadata": {
    "tags": [
     "remove-cell"
    ]
   },
   "outputs": [],
   "source": [
    "import pandas as pd\n",
    "import numpy as np\n",
    "\n",
    "pd.set_option('display.width', 400)\n",
    "np.set_printoptions(linewidth=400)\n",
    "pd.set_option('display.max_columns', 15)\n",
    "\n",
    "cereal = pd.read_csv('cereal.csv')\n",
    "cereal2 = pd.read_csv('candybars.csv')\n",
    "candybars_mini = cereal2.head(7).loc[:, ['name', 'weight', 'available_canada_america' ]]"
   ]
  },
  {
   "cell_type": "code",
   "execution_count": null,
   "id": "bbe60af0",
   "metadata": {},
   "outputs": [],
   "source": [
    "candybars_mini"
   ]
  },
  {
   "cell_type": "markdown",
   "id": "d9d509e8",
   "metadata": {},
   "source": [
    "If we count the number of times the value `Both` appears in the\n",
    "`available_canada_america` column, we get 3 times. This is the frequency\n",
    "of the value `both`.\n",
    "\n",
    "## What is a Frequency Table?\n",
    "\n",
    "A frequency table is a manner of displaying all the possible values of a\n",
    "column in our dataframe and the number of occurrences (frequencies) of\n",
    "each value.\n",
    "\n",
    "For our sample data, a frequency table for the\n",
    "`available_canada_america` column would look like this:"
   ]
  },
  {
   "cell_type": "code",
   "execution_count": null,
   "id": "3bf58712",
   "metadata": {
    "tags": [
     "remove-input"
    ]
   },
   "outputs": [],
   "source": [
    "candybars_mini['available_canada_america'].value_counts()"
   ]
  },
  {
   "cell_type": "markdown",
   "id": "41da3547",
   "metadata": {},
   "source": [
    "If we want to get a frequency table of a categorical column, there are a\n",
    "few steps that need to be followed.\n",
    "\n",
    "Up until now, we discussed getting a single column from a dataframe\n",
    "using double square brackets - `df[['column name']]`.\n",
    "\n",
    "For frequency tables, however, we only use single brackets to obtain the\n",
    "column values."
   ]
  },
  {
   "cell_type": "code",
   "execution_count": null,
   "id": "6bc1e68d",
   "metadata": {},
   "outputs": [],
   "source": [
    "mfr_column = cereal['mfr']\n",
    "mfr_column"
   ]
  },
  {
   "cell_type": "markdown",
   "id": "0014541d",
   "metadata": {},
   "source": [
    "We saved the object in this example here to an object named `mfr_column`\n",
    "in the same way that we have done this before.\n",
    "\n",
    "Now we can use `.value_counts()` on this `mfr_column` variable to\n",
    "reference it, and we can obtain the frequency value for the different\n",
    "categories in that variable."
   ]
  },
  {
   "cell_type": "code",
   "execution_count": null,
   "id": "602eb7ed",
   "metadata": {},
   "outputs": [],
   "source": [
    "mfr_freq = mfr_column.value_counts()\n",
    "mfr_freq"
   ]
  },
  {
   "cell_type": "markdown",
   "id": "fc5c3ae1",
   "metadata": {},
   "source": [
    "If we did instead use double square brackets with `pd.value_counts()`,\n",
    "we would get an error. So it is important to take care and remember when\n",
    "you are using `value_counts()`, you only use one set of square brackets."
   ]
  },
  {
   "cell_type": "code",
   "execution_count": null,
   "id": "67955e84",
   "metadata": {},
   "outputs": [],
   "source": [
    "mfr_col_wrong = cereal[['mfr']]\n",
    "mfr_col_wrong"
   ]
  },
  {
   "cell_type": "code",
   "execution_count": null,
   "id": "f6cafa13",
   "metadata": {
    "tags": [
     "raises-exception"
    ]
   },
   "outputs": [],
   "source": [
    "mfr_col_wrong.value_counts()"
   ]
  },
  {
   "cell_type": "markdown",
   "id": "e6c0f2d8",
   "metadata": {},
   "source": [
    "## Saving a dataframe\n",
    "\n",
    "Sometimes it is useful to save a new dataframe to a file like a csv file\n",
    "for future use by you or somebody else.\n",
    "\n",
    "We can do this using a method called `.to_csv()`."
   ]
  },
  {
   "cell_type": "code",
   "execution_count": null,
   "id": "db2294c8",
   "metadata": {},
   "outputs": [],
   "source": [
    "mfr_freq.to_csv('mfr_frequency.csv', index=False)"
   ]
  },
  {
   "cell_type": "markdown",
   "id": "f7b45de2",
   "metadata": {},
   "source": [
    "We put our desired `csv` file name in quotations within the parentheses\n",
    "and follow it with the argument `index=False` so we don’t export our\n",
    "index column which is just a column of numbers."
   ]
  }
 ],
 "metadata": {
  "jupytext": {
   "formats": "md:myst"
  },
  "kernelspec": {
   "display_name": "Python 3 (ipykernel)",
   "language": "python",
   "name": "python3"
  }
 },
 "nbformat": 4,
 "nbformat_minor": 5
}
