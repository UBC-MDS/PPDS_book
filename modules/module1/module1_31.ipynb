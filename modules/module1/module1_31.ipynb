{
 "cells": [
  {
   "cell_type": "markdown",
   "id": "59d48154",
   "metadata": {},
   "source": [
    "# Quick viz with Altair\\!\n",
    "\n",
    ":::{admonition} Watch it\n",
    "See the accompanied youtube video at <a href=\"https://www.youtube.com/embed/W88f5DAl9hk?rel=0?start=1945&end=2265\" target=\"_blank\">the link here.</a>\n",
    ":::\n",
    "\n",
    "If we want to visualize things using different plots, we can do that\n",
    "pretty quickly and with little code\\!\n",
    "\n",
    "Take the `cereal` object we analyzed in the last section."
   ]
  },
  {
   "cell_type": "code",
   "execution_count": null,
   "id": "5393299a",
   "metadata": {
    "tags": [
     "remove-cell"
    ]
   },
   "outputs": [],
   "source": [
    "import pandas as pd\n",
    "import numpy as np\n",
    "import altair as alt\n",
    "\n",
    "pd.set_option('display.width', 350)\n",
    "np.set_printoptions(linewidth=400)\n",
    "pd.set_option('display.max_columns', 15)\n",
    "\n",
    "cereal = pd.read_csv('cereal.csv') "
   ]
  },
  {
   "cell_type": "code",
   "execution_count": null,
   "id": "ec57bc18",
   "metadata": {},
   "outputs": [],
   "source": [
    "cereal"
   ]
  },
  {
   "cell_type": "markdown",
   "id": "225065bf",
   "metadata": {},
   "source": [
    "Let say we are interested in the `manufacturer` column. It would be\n",
    "great to express the frequency of the item in that column as a bar\n",
    "chart.\n",
    "\n",
    "But how do we do that?\n",
    "\n",
    "To do this, we are going to use a very nifty package called Altair.\n",
    "\n",
    "Altair is a data visualization tool that produces plots relatively\n",
    "easily.\n",
    "\n",
    "Like any other package we have seen so far, Altair needs to be imported\n",
    "before we can use it."
   ]
  },
  {
   "cell_type": "code",
   "execution_count": null,
   "id": "2a23baba",
   "metadata": {},
   "outputs": [],
   "source": [
    "import altair as alt"
   ]
  },
  {
   "cell_type": "markdown",
   "id": "573842ed",
   "metadata": {},
   "source": [
    "We can plot the `mfr` column frequencies using Altair using the\n",
    "following code."
   ]
  },
  {
   "cell_type": "code",
   "execution_count": null,
   "id": "2d7f916a",
   "metadata": {},
   "outputs": [],
   "source": [
    "chart0 = alt.Chart(cereal).mark_bar().encode(\n",
    "    x='mfr',\n",
    "    y='count()'\n",
    ")\n",
    "chart0"
   ]
  },
  {
   "cell_type": "markdown",
   "id": "cd88ad5f",
   "metadata": {},
   "source": [
    "See how quick that was? Just five lines\\!\n",
    "\n",
    "Now let’s take a moment and go through the steps of what each line\n",
    "means.\n",
    "\n",
    "To make a `bar` plot using `altair`, we follow the steps below:\n",
    "\n",
    "1\\. First, we create an `altair` plot object using `alt.chart()`.\n",
    "\n",
    "\n",
    "``` python\n",
    "alt.chart(...)...\n",
    "```\n",
    "\n",
    "2\\. Next, we pass the dataframe we’d like to plot in to `altair.chart()`. So here, that is the `cereeal` dataframe.\n",
    "\n",
    "``` python\n",
    "alt.chart(cereal)\n",
    "```\n",
    "\n",
    "3\\. But what kind of plot do we want?\\! As we said before, a bar chart would be suitable for this type of data. So let’s add `.mark_bar()` to specify that.\n",
    "\n",
    "``` python\n",
    "alt.chart(cereal).mark_bar()...\n",
    "```\n",
    "\n",
    "4\\. Next, we need to say what goes on the `y-axis` and the `x-axis`. We do this inside of the `encode()` call. So inside of encode, we say what should be represented on the `y-axis` and what should be represented on the `x-axis`. Here on the `x-axis`, we put the manufacturer, and on the `y-axis`, we us count: `.encode(x='mfr', y='count()')`.\n",
    "\n",
    "``` python\n",
    "alt.chart(cereal).mark_bar().encode(\n",
    "  x='mfr', \n",
    "  y='count()')\n",
    "```\n",
    "\n",
    " \n",
    "`count()` is used here to count the occurrences or the number of rows in\n",
    "the cereal dataframe that contains a specific manufacturer.\n",
    "\n",
    "In general, we use `count()` if we are interested in counting the\n",
    "frequency of each of elements in the `x` variable.\n",
    "\n",
    "This gives us all the code necessary for our desired plot now.\n",
    "\n",
    "For this example we are saving our plot as an object named `chart0`.\n",
    "\n",
    "The important things to notice here is that we want create a\n",
    "`alt.chart()` object and then specify that we want a `.mark_bar()` graph\n",
    "and then specifying which column using `.encode()`.\n",
    "\n",
    "\n",
    "Here is our plot again."
   ]
  },
  {
   "cell_type": "code",
   "execution_count": null,
   "id": "cde482f3",
   "metadata": {},
   "outputs": [],
   "source": [
    "chart1 = alt.Chart(cereal, width=500, height=300).mark_bar().encode(\n",
    "    x='mfr',\n",
    "    y='count()'\n",
    ")\n",
    "chart1"
   ]
  },
  {
   "cell_type": "markdown",
   "id": "99295b0c",
   "metadata": {},
   "source": [
    "It looks a little different this time. The first\n",
    "time we plotted it, it was a little too small. So inside the `alt.Chart`\n",
    "call, we added a `width` and `height` argument so that we can make the\n",
    "plot bigger.\n",
    "\n",
    "\n",
    "What else can we plot from our original cereal dataframe named `cereal`?\n",
    "\n",
    "Maybe we want to see the relationship between `sugars` and `calories` in\n",
    "the cereals?\n",
    "\n",
    "This would require a `scatter` plot which can be done by specifying\n",
    "`mark_circle` instead of `mark_bar` and in the `encode` function, we\n",
    "need to say what is going to be on the `x` and the `y` axis."
   ]
  },
  {
   "cell_type": "code",
   "execution_count": null,
   "id": "420b8725",
   "metadata": {},
   "outputs": [],
   "source": [
    "chart2 = alt.Chart(cereal, width=500, height=300).mark_circle().encode(\n",
    "    x='sugars',\n",
    "    y='calories'\n",
    ")\n",
    "chart2"
   ]
  },
  {
   "cell_type": "markdown",
   "id": "c59745ad",
   "metadata": {},
   "source": [
    "In this case, we are putting `sugars` on the `x-axis` and `calories` on\n",
    "the `y-axis`.\n",
    "\n",
    "\n",
    "Something you may have noticed is that there are 77 cereals but there\n",
    "doesn’t seem to be 77 data points\\!\n",
    "\n",
    "That’s because some of them are lying on top of each other with the same\n",
    "sugar and calorie values.\n",
    "\n",
    "One way we can deal with this is by changing the `opacity` of each of\n",
    "those points. That way, the darker points represent that there is more\n",
    "than one data point at that point in the chart, and the lightest point\n",
    "represent that there is only one data point there.\n",
    "\n",
    "We set opacity with `opacity` in the `mark_circle()` function and it\n",
    "accepts values between 0 and 1, with 1 being full opacity. Here we set\n",
    "it at 0.3."
   ]
  },
  {
   "cell_type": "code",
   "execution_count": null,
   "id": "f1368036",
   "metadata": {},
   "outputs": [],
   "source": [
    "chart3 = alt.Chart(cereal, width=500, height=300).mark_circle(opacity=0.3).encode(\n",
    "    x='sugars',\n",
    "    y='calories'\n",
    ")\n",
    "chart3"
   ]
  },
  {
   "cell_type": "markdown",
   "id": "86548756",
   "metadata": {},
   "source": [
    "Look at that\\! Now we can see there are multiple cereals that have 3.5g\n",
    "of sugar with 110 calories.\n",
    "\n",
    "What if you don’t fancy the default plot colour `blue`?\n",
    "\n",
    "Well that’s okay, we can change the colour easily using the `color`\n",
    "argument in `.mark_circle()`."
   ]
  },
  {
   "cell_type": "code",
   "execution_count": null,
   "id": "199366cd",
   "metadata": {},
   "outputs": [],
   "source": [
    "chart4 = alt.Chart(cereal, width=500, height=300).mark_circle(color='red', opacity=0.3).encode(\n",
    "    x='sugars',\n",
    "    y='calories'\n",
    ")\n",
    "chart4"
   ]
  },
  {
   "cell_type": "markdown",
   "id": "c50044b3",
   "metadata": {},
   "source": [
    "Here we have changed the colour to `red`.\n",
    "\n",
    "What if the data points seem a little too small? That is no problem, we\n",
    "can also increase these. Again in the `mark_circle()` call. Here we add\n",
    "an argument where we say the `size`. So we have changed the size from\n",
    "the default to a size of 80, and we can see that the points are now\n",
    "larger."
   ]
  },
  {
   "cell_type": "code",
   "execution_count": null,
   "id": "501c31e5",
   "metadata": {},
   "outputs": [],
   "source": [
    "chart5 = alt.Chart(cereal, width=500, height=300).mark_circle(color='red', size=80, opacity=0.3).encode(\n",
    "    x='sugars',\n",
    "    y='calories'\n",
    ")\n",
    "chart5"
   ]
  },
  {
   "cell_type": "markdown",
   "id": "e558ecda",
   "metadata": {},
   "source": [
    "Every good graph should have a title\\!\n",
    "\n",
    "A title provides useful information about what the plot is about.\n",
    "\n",
    "Let’s take this opportunity to finish off our scatter plot and set the\n",
    "argument `title` to something as well."
   ]
  },
  {
   "cell_type": "code",
   "execution_count": null,
   "id": "3181420a",
   "metadata": {},
   "outputs": [],
   "source": [
    "chart6 = alt.Chart(cereal, width=500, height=300).mark_circle(color='red', size=80, opacity=0.3).encode(\n",
    "    x='sugars',\n",
    "    y='calories'\n",
    ").properties(title=\"Scatter plot sugars vs calories for different cereals\")\n",
    "chart6"
   ]
  },
  {
   "cell_type": "markdown",
   "id": "0bcec3c3",
   "metadata": {},
   "source": [
    "So here we have called it *“Scatter plot sugars vs calories for\n",
    "different cereals”*.\n",
    "\n",
    "We use the `.properties()` function to do this."
   ]
  }
 ],
 "metadata": {
  "jupytext": {
   "formats": "md:myst"
  },
  "kernelspec": {
   "display_name": "Python 3 (ipykernel)",
   "language": "python",
   "name": "python3"
  }
 },
 "nbformat": 4,
 "nbformat_minor": 5
}
