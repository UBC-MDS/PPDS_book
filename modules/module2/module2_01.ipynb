{
 "cells": [
  {
   "cell_type": "markdown",
   "id": "bd67be43",
   "metadata": {},
   "source": [
    "# Reading in Different File Types\n",
    "\n",
    ":::{admonition} Watch it\n",
    "See the accompanied youtube video at <a href=\"https://www.youtube.com/embed/WCWi1R2CQsY?start=0&end=270\" target=\"_blank\">the link here.</a>\n",
    ":::"
   ]
  },
  {
   "cell_type": "code",
   "execution_count": null,
   "id": "d1a3e42f",
   "metadata": {
    "tags": [
     "remove-cell"
    ]
   },
   "outputs": [],
   "source": [
    "import pandas as pd\n",
    "import numpy as np\n",
    "\n",
    "pd.set_option('display.width', 350)\n",
    "np.set_printoptions(linewidth=400)\n",
    "pd.set_option('display.max_columns', 15)\n",
    "pd.set_option('display.max_rows', 15)"
   ]
  },
  {
   "cell_type": "markdown",
   "id": "37898faa",
   "metadata": {},
   "source": [
    "## Reading in Different File Types\n",
    "\n",
    "In the last module, we learned how to read in a `csv` file but loading\n",
    "in data is not restricted to this file type.\n",
    "\n",
    "`pandas` facilitates the loading of data from many different file types\n",
    "including::\n",
    "\n",
    "  - A URL: If the data is stored publicly on a webpage, pandas can read\n",
    "    it directly in from the page address.\n",
    "  - A `txt` file: We saw what a plain text file looked like in the last\n",
    "    module and it is generally a simple manner of storing data.  \n",
    "  - An `xlsx` file: This is a Microsoft Excel spreadsheet. This is\n",
    "    different than a regular `csv` file as an Excel file can contain\n",
    "    many different sheets and can be formatted uniquely and specifically\n",
    "    for an individual’s needs.\n",
    "\n",
    "Of course, there are many other file types but we will focus on these\n",
    "for this course.\n",
    "\n",
    "---\n",
    "\n",
    "## Reading from a URL\n",
    "\n",
    "If the data is accessible publicly on a website, you can read in data\n",
    "directly from the webpage it is stored on. For example, this code and\n",
    "all the files that make up this course are all openly available and can\n",
    "be  <a href=\"https://github.com/UBC-MDS/MCL-DSCI-011-programming-in-python\" target=\"_blank\">viewed\n",
    "online</a>.\n",
    "\n",
    "The `candybar.csv` file that we used in the last module, is stored at\n",
    "this URL.\n",
    "\n",
    "<a href=\"https://raw.githubusercontent.com/UBC-MDS/MCL-DSCI-011-programming-in-python/master/data/candybars.csv\" target=\"_blank\">https://raw.githubusercontent.com/UBC-MDS/MCL-DSCI-011-programming-in-python/master/data/candybars.csv</a>.\n",
    "\n",
    "\n",
    "<img src='../imgs/module2/url-samp.png'  alt=\"404 image\"/> \n",
    "\n",
    "You can see that it looks like a plain text file with each line being a\n",
    "row and each column value separated with a comma.\n",
    "\n",
    "The code required to read in this URL looks like this."
   ]
  },
  {
   "cell_type": "code",
   "execution_count": null,
   "id": "57441fc6",
   "metadata": {},
   "outputs": [],
   "source": [
    "candybars = pd.read_csv('https://raw.githubusercontent.com/UBC-MDS/MCL-DSCI-511-programming-in-python/master/data/candybars.csv')\n",
    "candybars.head()"
   ]
  },
  {
   "cell_type": "markdown",
   "id": "fae3e66d",
   "metadata": {},
   "source": [
    "It uses the same `pd.read_csv()` function we saw when reading in csv\n",
    "files locally.\n",
    "\n",
    "\n",
    "## Reading in a Text File\n",
    "\n",
    "\n",
    "Reading in `txt` files can be a little less standard.\n",
    "\n",
    "Sometimes the character separating column values are not always commas\n",
    "like we saw before.\n",
    "\n",
    "There are many different options and when we read in the data, we need\n",
    "to specify how the data should be recognized.\n",
    "\n",
    "Let’s load in the `candybars-text.txt` file.\n",
    "\n",
    "This is the same as the `candybars.csv` data but saved as a `txt` file.\n",
    "\n",
    "Look what happens when we load it in using the same syntax we are used\n",
    "to."
   ]
  },
  {
   "cell_type": "code",
   "execution_count": null,
   "id": "22c5e531",
   "metadata": {},
   "outputs": [],
   "source": [
    "candybars = pd.read_csv('candybars-text.txt')\n",
    "candybars.head()"
   ]
  },
  {
   "cell_type": "markdown",
   "id": "1609392d",
   "metadata": {},
   "source": [
    "This is not ideal.\n",
    "\n",
    "What you should notice is instead of each column value being separated\n",
    "by a comma, it is now separated by `\\t`.\n",
    "\n",
    "This is called the **delimiter**.\n",
    "\n",
    "In this specific case, a `\\t` delimiter is a “tab”.\n",
    "\n",
    "We need to tell `pd.read_csv()` to separate each value on our delimiter\n",
    "`\\t`."
   ]
  },
  {
   "cell_type": "code",
   "execution_count": null,
   "id": "70471e3e",
   "metadata": {},
   "outputs": [],
   "source": [
    "candybars = pd.read_csv('candybars-text.txt', delimiter='\\t')\n",
    "candybars.head()"
   ]
  },
  {
   "cell_type": "markdown",
   "id": "8723f1d9",
   "metadata": {},
   "source": [
    "That’s much better.\n",
    "\n",
    "The delimiter won’t always be `\\t` for `txt` files. The most common\n",
    "delimiters are `;`, `,`, `\\t`, and sometimes even just spaces.\n",
    "\n",
    "\n",
    "## Reading in an Excel File (`xlsx`)\n",
    "\n",
    "Excel files need special attention because they give the user the\n",
    "capability of additional formatting including saving multiple dataframes\n",
    "on different “sheets” within a single file.\n",
    "\n",
    "If this is the case, we need to specify which sheet we want.\n",
    "\n",
    "Since this is a new type of animal, we also need a new verb. Enter\n",
    "`read_excel()`.\n",
    "\n",
    "Our candybars dataframe is now saved as an excel spreadsheet named\n",
    "`foods.xlsx` on a sheet named `chocolate`.\n",
    "\n",
    "Here is how we would read it in."
   ]
  },
  {
   "cell_type": "code",
   "execution_count": null,
   "id": "c3f5570a",
   "metadata": {},
   "outputs": [],
   "source": [
    "candybars = pd.read_excel('foods.xlsx', sheet_name='chocolate')\n",
    "candybars"
   ]
  },
  {
   "cell_type": "markdown",
   "id": "831f7938",
   "metadata": {},
   "source": [
    "## Reading in Data from a Different File\n",
    "\n",
    "\n",
    "Something you have seen in Module 1’s exercises is that when reading in\n",
    "the data there is always a `data/` before the file name.\n",
    "\n",
    "This is because we are running the current code in a file that is\n",
    "located in a different folder than the data.\n",
    "\n",
    "The `data` is specifying a folder in our current directory (folder).\n",
    "\n",
    "We need to specify the path to the `csv` file through the subdirectory.\n",
    "\n",
    "\n",
    "<img src='../imgs/module2/datafile.png'  alt=\"404 image\"/> \n",
    "\n",
    "\n",
    "This translates to the syntax `data/canucks.csv`.\n",
    "\n",
    "\n",
    "This syntax is not restricted to a single subdirectory and could even\n",
    "have multiple folders between the current location and the final file\n",
    "name.\n",
    "\n",
    "*_Example:_*\n",
    "\n",
    "`data/module3/question2/candybars.csv`\n",
    "\n",
    "<br> <br>\n",
    "\n",
    "<img src='../imgs/module2/more_files.png'  alt=\"404 image\"/> \n",
    "\n",
    "\n",
    "You can see the whole course structure and it’s subdirectories\n",
    "<a href=\"https://github.com/UBC-MDS/MCL-DSCI-511-programming-in-python\" target=\"_blank\">openly\n",
    "online</a>.\n",
    "\n",
    "In this course, we save all our data in a folder called `data` so when\n",
    "asked to read in data, take care in future exercises to add the full\n",
    "path to the required file.\n",
    "\n",
    "\n",
    "<img src='../imgs/module2/online.png'  alt=\"404 image\"/> \n",
    "\n",
    "\n",
    "It may be a good idea to look in the\n",
    "<a href=\"https://github.com/UBC-MDS/MCL-DSCI-511-programming-in-python/tree/master/data\" target=\"_blank\">data\n",
    "folder</a> to see exactly where the data you are loading in the\n",
    "exercises is coming from.\n",
    "\n",
    ":::{admonition} Let’s apply what we learned!\n",
    "\n",
    "1\\. What is a delimiter?                             \n",
    "a) It defines how column values are separated     \n",
    "b) It prevents a limitation on the data being read it     \n",
    "c) It is a manner of deleting values from a dataframe           \n",
    "\n",
    "2\\. What argument is needed if we want to read in data from an Excel spreadsheet where there is data saved on different sheets?      \n",
    "a) `header`        \n",
    "b) `sheet_name`        \n",
    "c) `sheet`        \n",
    "\n",
    ":::\n",
    "\n",
    "```{admonition} Solutions!\n",
    ":class: tip, dropdown\n",
    "\n",
    "1. a) It defines how column values are separated \n",
    "2. b) `sheet_name`          \n",
    "```"
   ]
  }
 ],
 "metadata": {
  "jupytext": {
   "formats": "md:myst"
  },
  "kernelspec": {
   "display_name": "Python 3 (ipykernel)",
   "language": "python",
   "name": "python3"
  }
 },
 "nbformat": 4,
 "nbformat_minor": 5
}
