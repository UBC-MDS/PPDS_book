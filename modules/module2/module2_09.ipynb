{
 "cells": [
  {
   "cell_type": "markdown",
   "id": "ce674635",
   "metadata": {},
   "source": [
    "# Column renaming and column dropping\n",
    "\n",
    ":::{admonition} Watch it\n",
    "See the accompanied youtube video at <a href=\"https://www.youtube.com/embed/WCWi1R2CQsY?start=573&end=589\" target=\"_blank\">the link here.</a>\n",
    ":::"
   ]
  },
  {
   "cell_type": "code",
   "execution_count": null,
   "id": "094e9f8c",
   "metadata": {
    "tags": [
     "remove-cell"
    ]
   },
   "outputs": [],
   "source": [
    "import pandas as pd\n",
    "import numpy as np\n",
    "\n",
    "pd.set_option('display.width', 350)\n",
    "np.set_printoptions(linewidth=400)\n",
    "pd.set_option('display.max_columns', 15)\n",
    "pd.set_option('display.max_rows', 15)"
   ]
  },
  {
   "cell_type": "markdown",
   "id": "8204bcbe",
   "metadata": {},
   "source": [
    "Remember our `candybars.csv` dataframe?\n",
    "\n",
    "Let’s bring it back and save it as object named `candy`."
   ]
  },
  {
   "cell_type": "code",
   "execution_count": null,
   "id": "b57a1a45",
   "metadata": {},
   "outputs": [],
   "source": [
    "candy = pd.read_csv('candybars.csv')\n",
    "candy"
   ]
  },
  {
   "cell_type": "markdown",
   "id": "d235274d",
   "metadata": {},
   "source": [
    "## Column Renaming\n",
    "\n",
    "There will be times where you are unsatisfied with the column names and\n",
    "you may want to change them.\n",
    "\n",
    "The proper syntax to do that is with `.rename()`.\n",
    "\n",
    "The column name `available_canada_america` is a bit long.\n",
    "\n",
    "Perhaps it would be a good idea to change it to something shorter like\n",
    "`availability`.\n",
    "\n",
    "Here is how we can accomplish that."
   ]
  },
  {
   "cell_type": "code",
   "execution_count": null,
   "id": "20e139a9",
   "metadata": {},
   "outputs": [],
   "source": [
    "candy = candy.rename(columns={'available_canada_america':'availability'})\n",
    "candy"
   ]
  },
  {
   "cell_type": "markdown",
   "id": "7b351775",
   "metadata": {},
   "source": [
    "This code uses something we’ve never seen before - `{}` curly braces,\n",
    "also called curly brackets.\n",
    "\n",
    "These have a special meaning but for now, you only need to concentrate\n",
    "your attention on the fact that the argument `columns` needs to have the\n",
    "format shown on the slide.\n",
    "\n",
    "``` python\n",
    " columns={'old column name':'new column name'}\n",
    "```\n",
    "\n",
    "You can also rename multiple columns at once by adding a comma between\n",
    "the new and old column pairs within the curly brackets.\n",
    "\n",
    "It’s important that we always save the dataframe to an object when\n",
    "making column changes or the changes will not be saved in our dataframe."
   ]
  },
  {
   "cell_type": "code",
   "execution_count": null,
   "id": "179a67d5",
   "metadata": {},
   "outputs": [],
   "source": [
    "candy = candy.rename(columns={'available_canada_america':'availability',\n",
    "                        'weight':'weight_g'})\n",
    "candy.head()"
   ]
  },
  {
   "cell_type": "markdown",
   "id": "a62a7362",
   "metadata": {},
   "source": [
    "## Column Dropping\n",
    "\n",
    "`.drop()` is the verb we use to delete columns in a dataframe.\n",
    "\n",
    "Let’s delete the column `coconut` by specifying it in the `columns`\n",
    "argument of the `drop` verb."
   ]
  },
  {
   "cell_type": "code",
   "execution_count": null,
   "id": "f41b7e76",
   "metadata": {},
   "outputs": [],
   "source": [
    "candy.drop(columns='coconut')"
   ]
  },
  {
   "cell_type": "code",
   "execution_count": null,
   "id": "1635dc4b",
   "metadata": {},
   "outputs": [],
   "source": [
    "candy.drop(columns='coconut')"
   ]
  },
  {
   "cell_type": "markdown",
   "id": "5dfaa555",
   "metadata": {},
   "source": [
    "If you look again at the code we just wrote you’ll notice we didn’t save\n",
    "over the dataframe object, so the dataframe `candy` still will contain\n",
    "the `coconut` column."
   ]
  },
  {
   "cell_type": "code",
   "execution_count": null,
   "id": "8f3c77a8",
   "metadata": {},
   "outputs": [],
   "source": [
    "candy.head()"
   ]
  },
  {
   "cell_type": "markdown",
   "id": "5e0d6505",
   "metadata": {},
   "source": [
    "Let’s overwrite the dataframe and remove multiple columns at the same\n",
    "time.\n",
    "\n",
    "Let’s drop `nougat` and `coconut` together."
   ]
  },
  {
   "cell_type": "code",
   "execution_count": null,
   "id": "8f6e773b",
   "metadata": {},
   "outputs": [],
   "source": [
    "candy = candy.drop(columns=['nougat', 'coconut'])\n",
    "candy.head()"
   ]
  },
  {
   "cell_type": "markdown",
   "id": "3469f1fd",
   "metadata": {},
   "source": [
    "We put the columns we want to drop in square brackets and this time we\n",
    "will remember to overwrite over the `candy` object.\n",
    "\n",
    "Now when we call `candy.head()` it reflects the dropped columns. They’re\n",
    "no longer there.\n",
    "\n",
    "\n",
    "\n",
    ":::{admonition} Let’s apply what we learned!\n",
    "\n",
    "Here is our `fruit_salad` dataframe once again. \n",
    "\n",
    "```out\n",
    "           name    colour    location    seed   shape  sweetness   water-content  weight\n",
    "0         apple       red     canada    True   round     True          84         100\n",
    "1        banana    yellow     mexico   False    long     True          75         120\n",
    "2    cantaloupe    orange      spain    True   round     True          90        1360\n",
    "3  dragon-fruit   magenta      china    True   round    False          96         600\n",
    "4    elderberry    purple    austria   False   round     True          80           5\n",
    "5           fig    purple     turkey   False    oval    False          78          40\n",
    "6         guava     green     mexico    True    oval     True          83         450\n",
    "7   huckleberry      blue     canada    True   round     True          73           5\n",
    "8          kiwi     brown      china    True   round     True          80          76\n",
    "9         lemon    yellow     mexico   False    oval    False          83          65\n",
    "```\n",
    " \n",
    "Let's say we run the following code:\n",
    "\n",
    "```python\n",
    "fruit_salad.drop(columns = ['colour', 'shape', 'sweetness'])\n",
    "fruit_salad = fruit_salad.rename(columns={'location':'country',\n",
    "                                          'weight':'weight_g'})\n",
    "```\n",
    "\n",
    "Use the dataframe and code above to answer the next 2 questions.\n",
    "\n",
    "\n",
    "1\\. After running the code above, How many columns (not including the index) are there in `fruit_salad` ?           \n",
    "a) 9      \n",
    "b) 4        \n",
    "c) 8           \n",
    "\n",
    "2\\. After running the code above, which of the following is a column in the dataframe `fruit_salad`?        \n",
    "a) `country`     \n",
    "b) `location`        \n",
    "\n",
    ":::\n",
    "\n",
    "```{admonition} Solutions!\n",
    ":class: tip, dropdown\n",
    "\n",
    "1. c) 8   \n",
    "2. a) `country` \n",
    "```"
   ]
  }
 ],
 "metadata": {
  "jupytext": {
   "formats": "md:myst"
  },
  "kernelspec": {
   "display_name": "Python 3 (ipykernel)",
   "language": "python",
   "name": "python3"
  }
 },
 "nbformat": 4,
 "nbformat_minor": 5
}
